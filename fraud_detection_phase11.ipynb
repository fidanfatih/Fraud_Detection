{
  "nbformat": 4,
  "nbformat_minor": 0,
  "metadata": {
    "colab": {
      "name": "fraud_detection_phase11.ipynb",
      "provenance": [],
      "collapsed_sections": [],
      "toc_visible": true,
      "include_colab_link": true
    },
    "kernelspec": {
      "display_name": "Python 3",
      "language": "python",
      "name": "python3"
    },
    "language_info": {
      "codemirror_mode": {
        "name": "ipython",
        "version": 3
      },
      "file_extension": ".py",
      "mimetype": "text/x-python",
      "name": "python",
      "nbconvert_exporter": "python",
      "pygments_lexer": "ipython3",
      "version": "3.8.5"
    }
  },
  "cells": [
    {
      "cell_type": "markdown",
      "metadata": {
        "id": "view-in-github",
        "colab_type": "text"
      },
      "source": [
        "<a href=\"https://colab.research.google.com/github/fidanfatih/Fraud_Detection/blob/main/fraud_detection_phase11.ipynb\" target=\"_parent\"><img src=\"https://colab.research.google.com/assets/colab-badge.svg\" alt=\"Open In Colab\"/></a>"
      ]
    },
    {
      "cell_type": "markdown",
      "metadata": {
        "id": "rk35MHHNTpT_"
      },
      "source": [
        "### Read dataset"
      ]
    },
    {
      "cell_type": "code",
      "metadata": {
        "id": "Aclkh19dPxW5"
      },
      "source": [
        "import pandas as pd\n",
        "import numpy as np\n",
        "import matplotlib.pyplot as plt\n",
        "import seaborn as sns\n",
        "from scipy.stats.mstats import winsorize\n",
        "from sklearn.preprocessing import LabelEncoder\n",
        "from sklearn.decomposition import PCA\n",
        "from sklearn.preprocessing import StandardScaler, MinMaxScaler\n",
        "# from category_encoders import CountEncoder\n",
        "from sklearn.model_selection import KFold, TimeSeriesSplit\n",
        "from sklearn.feature_selection import RFECV\n",
        "import lightgbm as lgb\n",
        "from tqdm import tqdm_notebook\n",
        "from sklearn.metrics import roc_auc_score\n",
        "from sklearn.preprocessing import LabelEncoder\n",
        "import multiprocessing\n",
        "\n",
        "\n",
        "import re\n",
        "import gc\n",
        "import warnings\n",
        "warnings.filterwarnings('ignore')\n",
        "warnings.warn(\"this will not show\")\n",
        "\n",
        "%matplotlib inline\n",
        "\n",
        "pd.options.display.max_rows = 1000\n",
        "pd.options.display.max_columns = 1000\n",
        "pd.options.display.max_colwidth = 1000"
      ],
      "execution_count": 1,
      "outputs": []
    },
    {
      "cell_type": "code",
      "metadata": {
        "colab": {
          "base_uri": "https://localhost:8080/"
        },
        "id": "ht5CFJRo2B3C",
        "outputId": "d1cebe23-deb1-4b32-889c-b49262894275"
      },
      "source": [
        "from google.colab import drive\n",
        "drive.mount('/content/drive')"
      ],
      "execution_count": 73,
      "outputs": [
        {
          "output_type": "stream",
          "name": "stdout",
          "text": [
            "Drive already mounted at /content/drive; to attempt to forcibly remount, call drive.mount(\"/content/drive\", force_remount=True).\n"
          ]
        }
      ]
    },
    {
      "cell_type": "code",
      "metadata": {
        "id": "mNAkM6rGOSlQ"
      },
      "source": [
        "# Memory Reduction\n",
        "def reduce_mem_usage(df, verbose=True):\n",
        "    numerics = ['int16', 'int32', 'int64', 'float16', 'float32', 'float64']\n",
        "    start_mem = df.memory_usage().sum() / 1024**2    \n",
        "    for col in df.columns:\n",
        "        col_type = df[col].dtypes\n",
        "        if col_type in numerics:\n",
        "            c_min = df[col].min()\n",
        "            c_max = df[col].max()\n",
        "            if str(col_type)[:3] == 'int':\n",
        "                if c_min > np.iinfo(np.int8).min and c_max < np.iinfo(np.int8).max:\n",
        "                    df[col] = df[col].astype(np.int8)\n",
        "                elif c_min > np.iinfo(np.int16).min and c_max < np.iinfo(np.int16).max:\n",
        "                    df[col] = df[col].astype(np.int16)\n",
        "                elif c_min > np.iinfo(np.int32).min and c_max < np.iinfo(np.int32).max:\n",
        "                    df[col] = df[col].astype(np.int32)\n",
        "                elif c_min > np.iinfo(np.int64).min and c_max < np.iinfo(np.int64).max:\n",
        "                    df[col] = df[col].astype(np.int64)  \n",
        "            else:\n",
        "                if c_min > np.finfo(np.float16).min and c_max < np.finfo(np.float16).max:\n",
        "                    df[col] = df[col].astype(np.float16)\n",
        "                elif c_min > np.finfo(np.float32).min and c_max < np.finfo(np.float32).max:\n",
        "                    df[col] = df[col].astype(np.float32)\n",
        "                else:\n",
        "                    df[col] = df[col].astype(np.float64)    \n",
        "    end_mem = df.memory_usage().sum() / 1024**2\n",
        "    if verbose: \n",
        "        print('Mem. usage decreased to {:5.2f} Mb ({:.1f}% reduction)'.format(end_mem, 100 * (start_mem - end_mem) / start_mem))\n",
        "    return df"
      ],
      "execution_count": 3,
      "outputs": []
    },
    {
      "cell_type": "code",
      "metadata": {
        "id": "e8f6KikVIHh3",
        "colab": {
          "base_uri": "https://localhost:8080/"
        },
        "outputId": "1095a25d-afd4-47e6-983a-626a733ec38c"
      },
      "source": [
        "%%time\n",
        "\n",
        "files = ['/content/drive/MyDrive/Colab Notebooks/Fraud Detection/input/test_identity.csv.zip', \n",
        "         '/content/drive/MyDrive/Colab Notebooks/Fraud Detection/input/test_transaction.csv.zip',\n",
        "         '/content/drive/MyDrive/Colab Notebooks/Fraud Detection/input/train_identity.csv.zip',\n",
        "         '/content/drive/MyDrive/Colab Notebooks/Fraud Detection/input/train_transaction.csv.zip']\n",
        "\n",
        "def load_data(file):\n",
        "    return pd.read_csv(file)\n",
        "\n",
        "with multiprocessing.Pool() as pool:\n",
        "    test_id, test_tr, train_id, train_tr = pool.map(load_data, files)"
      ],
      "execution_count": 4,
      "outputs": [
        {
          "output_type": "stream",
          "name": "stdout",
          "text": [
            "CPU times: user 3.42 s, sys: 5.65 s, total: 9.08 s\n",
            "Wall time: 57.7 s\n"
          ]
        }
      ]
    },
    {
      "cell_type": "code",
      "metadata": {
        "id": "6eIQCeV3QTC0",
        "colab": {
          "base_uri": "https://localhost:8080/"
        },
        "outputId": "f285e7a0-db85-4c20-adf7-b672c331d282"
      },
      "source": [
        "train = pd.merge(train_tr, train_id, on='TransactionID', how='left')\n",
        "test = pd.merge(test_tr, test_id, on='TransactionID', how='left')\n",
        "\n",
        "del test_id, test_tr, train_id, train_tr\n",
        "gc.collect()"
      ],
      "execution_count": 5,
      "outputs": [
        {
          "output_type": "execute_result",
          "data": {
            "text/plain": [
              "15"
            ]
          },
          "metadata": {},
          "execution_count": 5
        }
      ]
    },
    {
      "cell_type": "code",
      "metadata": {
        "id": "ISLo9bxSN-6H",
        "colab": {
          "base_uri": "https://localhost:8080/"
        },
        "outputId": "afcab8c8-d8d9-4974-d04f-5543363758d1"
      },
      "source": [
        "# Check for column mismatches\n",
        "def Diff(li1, li2):\n",
        "    li1_dif = [i for i in li1 + li2 if i not in li1]\n",
        "    li2_dif = [i for i in li1 + li2 if i not in li2]\n",
        "\n",
        "    print(f\"\"\"not in list1:\n",
        "{li1_dif}\\n   \n",
        "not in list2:\n",
        "{li2_dif}\"\"\")\n",
        "\n",
        "Diff(sorted(train.columns), sorted(test.columns))"
      ],
      "execution_count": 6,
      "outputs": [
        {
          "output_type": "stream",
          "name": "stdout",
          "text": [
            "not in list1:\n",
            "['id-01', 'id-02', 'id-03', 'id-04', 'id-05', 'id-06', 'id-07', 'id-08', 'id-09', 'id-10', 'id-11', 'id-12', 'id-13', 'id-14', 'id-15', 'id-16', 'id-17', 'id-18', 'id-19', 'id-20', 'id-21', 'id-22', 'id-23', 'id-24', 'id-25', 'id-26', 'id-27', 'id-28', 'id-29', 'id-30', 'id-31', 'id-32', 'id-33', 'id-34', 'id-35', 'id-36', 'id-37', 'id-38']\n",
            "   \n",
            "not in list2:\n",
            "['id_01', 'id_02', 'id_03', 'id_04', 'id_05', 'id_06', 'id_07', 'id_08', 'id_09', 'id_10', 'id_11', 'id_12', 'id_13', 'id_14', 'id_15', 'id_16', 'id_17', 'id_18', 'id_19', 'id_20', 'id_21', 'id_22', 'id_23', 'id_24', 'id_25', 'id_26', 'id_27', 'id_28', 'id_29', 'id_30', 'id_31', 'id_32', 'id_33', 'id_34', 'id_35', 'id_36', 'id_37', 'id_38', 'isFraud']\n"
          ]
        }
      ]
    },
    {
      "cell_type": "code",
      "metadata": {
        "id": "TGEdZfyNOLnP"
      },
      "source": [
        "test.rename(columns=lambda x: x.replace(\"id-\",\"id_\") if \"id-\" in x else x, inplace=True)"
      ],
      "execution_count": 7,
      "outputs": []
    },
    {
      "cell_type": "code",
      "metadata": {
        "id": "VPpx-6cbJlnz",
        "colab": {
          "base_uri": "https://localhost:8080/"
        },
        "outputId": "fa41cee2-c275-4731-f2fc-b52c5036962b"
      },
      "source": [
        "one_value_cols = [col for col in train.columns if train[col].nunique() <= 1]\n",
        "one_value_cols_test = [col for col in test.columns if test[col].nunique() <= 1]\n",
        "\n",
        "many_null_cols = [col for col in train.columns if train[col].isnull().sum() / train.shape[0] > 0.9]\n",
        "many_null_cols_test = [col for col in test.columns if test[col].isnull().sum() / test.shape[0] > 0.9]\n",
        "\n",
        "big_top_value_cols = [col for col in train.columns if train[col].value_counts(dropna=False, normalize=True).values[0] > 0.9]\n",
        "big_top_value_cols_test = [col for col in test.columns if test[col].value_counts(dropna=False, normalize=True).values[0] > 0.9]\n",
        "\n",
        "cols_to_drop = list(set(many_null_cols + many_null_cols_test + big_top_value_cols + big_top_value_cols_test + one_value_cols + one_value_cols_test))\n",
        "cols_to_drop.remove('isFraud')\n",
        "print('{} features are going to be dropped for being useless'.format(len(cols_to_drop)))\n",
        "\n",
        "train = train.drop(cols_to_drop, axis=1)\n",
        "test = test.drop(cols_to_drop, axis=1)"
      ],
      "execution_count": 8,
      "outputs": [
        {
          "output_type": "stream",
          "name": "stdout",
          "text": [
            "82 features are going to be dropped for being useless\n"
          ]
        }
      ]
    },
    {
      "cell_type": "code",
      "metadata": {
        "id": "PDesJ_dAlIP0",
        "colab": {
          "base_uri": "https://localhost:8080/"
        },
        "outputId": "fa8588f0-4fbf-4abc-c0fb-177959308aef"
      },
      "source": [
        "test['isFraud'] = np.nan\n",
        "df = pd.concat([train, test], ignore_index=True, sort=False)\n",
        "del test, train\n",
        "\n",
        "df = df.reset_index().drop('index', axis=1)\n",
        "gc.collect()"
      ],
      "execution_count": 9,
      "outputs": [
        {
          "output_type": "execute_result",
          "data": {
            "text/plain": [
              "63"
            ]
          },
          "metadata": {},
          "execution_count": 9
        }
      ]
    },
    {
      "cell_type": "code",
      "metadata": {
        "id": "LmBRqLTwYeAz"
      },
      "source": [
        "df['Transaction_hour'] = np.floor(df['TransactionDT'] / 3600) % 24\n",
        "df['Transaction_day_of_week'] = np.floor((df['TransactionDT'] / (3600 * 24) - 1) % 7)"
      ],
      "execution_count": 10,
      "outputs": []
    },
    {
      "cell_type": "code",
      "metadata": {
        "colab": {
          "base_uri": "https://localhost:8080/"
        },
        "id": "88KqD3msaeF9",
        "outputId": "e4f99885-2645-465f-889f-1071ed91b1ee"
      },
      "source": [
        "df = reduce_mem_usage(df)"
      ],
      "execution_count": 11,
      "outputs": [
        {
          "output_type": "stream",
          "name": "stdout",
          "text": [
            "Mem. usage decreased to 1015.01 Mb (65.7% reduction)\n"
          ]
        }
      ]
    },
    {
      "cell_type": "code",
      "metadata": {
        "id": "zaDBX7_3aJ_q"
      },
      "source": [
        "# df.info(verbose=-1)"
      ],
      "execution_count": 12,
      "outputs": []
    },
    {
      "cell_type": "markdown",
      "metadata": {
        "id": "Tn1qEDP95NzV"
      },
      "source": [
        "## FUNCTIONS"
      ]
    },
    {
      "cell_type": "markdown",
      "metadata": {
        "id": "0VcXSXcrQnNo"
      },
      "source": [
        "#### Description Functions"
      ]
    },
    {
      "cell_type": "code",
      "metadata": {
        "id": "LBk1uVinJA41"
      },
      "source": [
        "def null_values(df, rate=0):\n",
        "    \"\"\"a function to show null values with percentage\"\"\"\n",
        "    nv=pd.concat([df.isnull().sum(), 100 * df.isnull().sum()/df.shape[0]],axis=1).rename(columns={0:'Missing_Records', 1:'Percentage (%)'})\n",
        "    return nv[nv['Percentage (%)']>rate].sort_values('Percentage (%)', ascending=False)"
      ],
      "execution_count": 13,
      "outputs": []
    },
    {
      "cell_type": "markdown",
      "metadata": {
        "id": "meXl3FAZREux"
      },
      "source": [
        "#### Outlier Functions"
      ]
    },
    {
      "cell_type": "code",
      "metadata": {
        "id": "U54b4y2cq52g"
      },
      "source": [
        "def simplify_column(col, df=df, threshold=0.005, value='mode'):\n",
        "  df[col] = df[col].replace(df[col].value_counts(dropna=True)[df[col].value_counts(dropna=True, normalize=True)<threshold].index,df[col].mode()[0] if value=='mode' else 'other')\n",
        "  return df[col]"
      ],
      "execution_count": 14,
      "outputs": []
    },
    {
      "cell_type": "markdown",
      "metadata": {
        "id": "6VrJYRlNn5ET"
      },
      "source": [
        "### Encoders"
      ]
    },
    {
      "cell_type": "code",
      "metadata": {
        "id": "BkVOBxZRP-jt"
      },
      "source": [
        "# Frequency Encoding\n",
        "\n",
        "def frequency_encoder(cat_cols, df):\n",
        "  for col in cat_cols:\n",
        "    if col in df.columns:\n",
        "      df= df.join(df[col].map(df[col].value_counts(normalize=True)).to_frame().add_suffix('_freq'))\n",
        "  return df"
      ],
      "execution_count": 15,
      "outputs": []
    },
    {
      "cell_type": "markdown",
      "metadata": {
        "id": "peQ2x1EkhGlD"
      },
      "source": [
        "### Modeling"
      ]
    },
    {
      "cell_type": "code",
      "metadata": {
        "id": "rgxCMdS1hKF3"
      },
      "source": [
        "def plot_feature_importances(model, num=10, figsize=(20,10)):\n",
        "    feature_imp = pd.Series(model.feature_importances_,index=X.columns).sort_values(ascending=False)[:num]\n",
        "    plt.figure(figsize=figsize)\n",
        "    sns.barplot(x=feature_imp, y=feature_imp.index)\n",
        "    plt.title(\"Feature Importance\")\n",
        "    plt.show()"
      ],
      "execution_count": 16,
      "outputs": []
    },
    {
      "cell_type": "markdown",
      "metadata": {
        "id": "a2agXMjXTpUQ"
      },
      "source": [
        "## Exploratory Data Analysis (EDA)"
      ]
    },
    {
      "cell_type": "markdown",
      "metadata": {
        "id": "AyQ_o7wGTpUX"
      },
      "source": [
        "### id_30"
      ]
    },
    {
      "cell_type": "code",
      "metadata": {
        "colab": {
          "base_uri": "https://localhost:8080/"
        },
        "id": "PC_r1uhPTpUa",
        "outputId": "0c933188-8e5e-40be-b332-4d2c2178e59f"
      },
      "source": [
        "df['id_30'].replace(regex={r'^Android.*': 'android', \n",
        "                        '^Mac.*': 'mac',\n",
        "                        '^Windows.*': 'windows', \n",
        "                        '^iOS.*': 'ios',\n",
        "                        '^Linux.*': 'linux'}, inplace=True)\n",
        "\n",
        "df['id_30'].value_counts(dropna=False)"
      ],
      "execution_count": 17,
      "outputs": [
        {
          "output_type": "execute_result",
          "data": {
            "text/plain": [
              "NaN        949007\n",
              "windows     69777\n",
              "ios         38502\n",
              "mac         25634\n",
              "android     11783\n",
              "linux        2488\n",
              "func           21\n",
              "other          19\n",
              "Name: id_30, dtype: int64"
            ]
          },
          "metadata": {},
          "execution_count": 17
        }
      ]
    },
    {
      "cell_type": "markdown",
      "metadata": {
        "id": "8_0vEva7TpUa"
      },
      "source": [
        "### id_31"
      ]
    },
    {
      "cell_type": "code",
      "metadata": {
        "colab": {
          "base_uri": "https://localhost:8080/"
        },
        "id": "wGVi6VLPTpUa",
        "outputId": "7cf0667a-ac5c-4561-f149-2140e198c56d"
      },
      "source": [
        "df.id_31.replace(regex={r'samsung.*': 'samsung_browser',\n",
        "                        '^Samsung.*': 'samsung_browser',\n",
        "                        '.*safari.*': 'safari',\n",
        "                        'opera.*': 'opera', \n",
        "                        '^ie.*': 'ie',\n",
        "                        'firefox.*': 'firefox',\n",
        "                        '^Mozilla.*':'firefox',\n",
        "                        'edge.*': 'edge', \n",
        "                        '^chrome.*': 'chrome',\n",
        "                        '^google.*': 'chrome',\n",
        "                        'android.*': 'android',\n",
        "                        'Generic.*': 'android',\n",
        "                        'Android':\"android\", \n",
        "                        'firefox.*': 'firefox',\n",
        "                        'edge.*': 'edge', \n",
        "                        'Microsoft.*':'ie'}, inplace=True)\n",
        "\n",
        "df.id_31.value_counts(dropna=False, normalize=True)\n"
      ],
      "execution_count": 18,
      "outputs": [
        {
          "output_type": "execute_result",
          "data": {
            "text/plain": [
              "NaN                7.476311e-01\n",
              "chrome             1.436780e-01\n",
              "safari             6.367483e-02\n",
              "ie                 1.424313e-02\n",
              "firefox            1.311757e-02\n",
              "edge               1.092295e-02\n",
              "samsung_browser    4.362801e-03\n",
              "android            1.083637e-03\n",
              "opera              7.682977e-04\n",
              "other              3.098709e-04\n",
              "facebook           1.121004e-04\n",
              "silk               1.731632e-05\n",
              "mobile             1.640493e-05\n",
              "ZTE/Blade          8.202466e-06\n",
              "uc                 7.291081e-06\n",
              "line               5.468311e-06\n",
              "maxthon            5.468311e-06\n",
              "comodo             5.468311e-06\n",
              "aol                4.556926e-06\n",
              "icedragon          4.556926e-06\n",
              "palemoon           3.645540e-06\n",
              "Lanix/Ilium        2.734155e-06\n",
              "puffin             1.822770e-06\n",
              "waterfox           1.822770e-06\n",
              "iron               9.113851e-07\n",
              "Nokia/Lumia        9.113851e-07\n",
              "LG/K-200           9.113851e-07\n",
              "Cherry             9.113851e-07\n",
              "Inco/Minion        9.113851e-07\n",
              "M4Tel/M4           9.113851e-07\n",
              "rim                9.113851e-07\n",
              "blackberry         9.113851e-07\n",
              "seamonkey          9.113851e-07\n",
              "BLU/Dash           9.113851e-07\n",
              "cyberfox           9.113851e-07\n",
              "chromium           9.113851e-07\n",
              "Name: id_31, dtype: float64"
            ]
          },
          "metadata": {},
          "execution_count": 18
        }
      ]
    },
    {
      "cell_type": "markdown",
      "metadata": {
        "id": "M8BYHktQTpUa"
      },
      "source": [
        "### id_33"
      ]
    },
    {
      "cell_type": "code",
      "metadata": {
        "id": "J52q7TwQ6S23"
      },
      "source": [
        "df['id_33_1'] = df.id_33.fillna(value='0x0').str.extract('(\\d*)x(\\d*)').apply(lambda x: int(x[0])*int(x[1]), axis=1)\n",
        "df['id_33_1'] = df['id_33_1'].replace({0:np.nan})\n",
        "df['id_33_2'] = df['id_33'].str.split('x', expand=True)[0] \n",
        "df['id_33_3'] = df['id_33'].str.split('x', expand=True)[1] \n",
        "df.drop('id_33', axis=1, inplace=True)"
      ],
      "execution_count": 19,
      "outputs": []
    },
    {
      "cell_type": "markdown",
      "metadata": {
        "id": "v-NEh6rP6lFr"
      },
      "source": [
        "### DeviceInfo"
      ]
    },
    {
      "cell_type": "code",
      "metadata": {
        "colab": {
          "base_uri": "https://localhost:8080/"
        },
        "id": "jGvJFhpS6q4O",
        "outputId": "97925978-d94d-4e22-a29d-11bc618211e1"
      },
      "source": [
        "df.DeviceInfo.replace(regex={r'.*SAMSUNG.*': 'samsung',\n",
        "                        '.*SM.*': 'samsung',\n",
        "                        '^SC.*': 'samsung',\n",
        "                        '.*Lenovo.*': 'lenovo',\n",
        "                        '^V.*': 'lg',\n",
        "                        '.*LG.*': 'lg',\n",
        "                        '.*HUAWEI.*':'huawei',\n",
        "                        '.*Huawei.*':'huawei',\n",
        "                        '.*Moto.*':'motorola',\n",
        "                        '.*moto.*':'motorola',\n",
        "                        '.*HTC.*':'htc',\n",
        "                        '.*Redmi.*':'redmi',\n",
        "                        '.*Blade.*':'blade',\n",
        "                        '.*BLADE.*':'blade',    \n",
        "                        '.*Nexus.*':'nexus',\n",
        "                        '.*GT.*':'gt',\n",
        "                        '.*Pixel.*':'pixel',\n",
        "                        '.*Hisense.*':'hisense',\n",
        "                        '.*ALCATEL.*':'alcatel',\n",
        "                        '.*ASUS.*':'asus',\n",
        "                        '.*Ilium.*':'ilium',\n",
        "                        '.*iris.*':'iris',\n",
        "                        '.*Aquaris.*':'aquaris',\n",
        "                        '.*Archos.*':'archos',\n",
        "                        '.*Linux.*':'linux',\n",
        "                        '.*Android.*':'android',\n",
        "                        '.*Microsoft.*':'microsoft',\n",
        "                        '.*MacOS.*':'macOS',\n",
        "                        '.*Trident.*':'trident',\n",
        "                        '.*rv.*':'rv',\n",
        "                        '.*XT.*':'xt',\n",
        "                        '.*Windows.*':'windows',\n",
        "                        '.*TA.*':'ta',\n",
        "                        '.*iOS.*':'ios',\n",
        "                        '.*verykool.*':'verykool',\n",
        "                        '.*0PM92.*':'htc',\n",
        "                        '.*2PS64.*':'htc',\n",
        "                        '.*HONOR.*':'honor',\n",
        "                        '.*EGO.*':'other',\n",
        "                         '^50.*':'alcatel',\n",
        "                         '^60.*':'alcatel',\n",
        "                         '^80.*':'alcatel',\n",
        "                         '^A.*':'alcatel',\n",
        "                         '^[CEFG].*':'sony',\n",
        "                         '^SG.*':'sony',\n",
        "                         '^M4.*':'m4',\n",
        "                         '.*MOT.*':'morotola',\n",
        "                         '^Mi.*':'xiaomi',\n",
        "                         '^MI.*':'xiaomi',\n",
        "                         '^Z.*':'zte',\n",
        "                         '^K.*':'android'}, inplace=True)\n",
        "\n",
        "df['DeviceInfo'] = simplify_column('DeviceInfo', df=df, threshold=0.0004, value='other')\n",
        "df.DeviceInfo.value_counts(dropna=False, normalize=True)"
      ],
      "execution_count": 20,
      "outputs": [
        {
          "output_type": "execute_result",
          "data": {
            "text/plain": [
              "NaN                       0.786988\n",
              "windows                   0.084543\n",
              "ios                       0.035090\n",
              "samsung                   0.022849\n",
              "macOS                     0.021620\n",
              "trident                   0.011237\n",
              "motorola                  0.007432\n",
              "rv                        0.006559\n",
              "lg                        0.004789\n",
              "huawei                    0.004421\n",
              "other                     0.002763\n",
              "sony                      0.002072\n",
              "alcatel                   0.001667\n",
              "blade                     0.001031\n",
              "xt                        0.000894\n",
              "android                   0.000700\n",
              "htc                       0.000602\n",
              "hisense                   0.000538\n",
              "pixel                     0.000530\n",
              "lenovo                    0.000499\n",
              "redmi                     0.000444\n",
              "ilium                     0.000430\n",
              "ta                        0.000321\n",
              "m4                        0.000284\n",
              "gt                        0.000284\n",
              "linux                     0.000277\n",
              "zte                       0.000246\n",
              "hi6210sft Build/MRA58K    0.000175\n",
              "xiaomi                    0.000170\n",
              "nexus                     0.000135\n",
              "es-us                     0.000115\n",
              "RNE-L03                   0.000102\n",
              "LDN-LX3                   0.000101\n",
              "asus                      0.000088\n",
              "Name: DeviceInfo, dtype: float64"
            ]
          },
          "metadata": {},
          "execution_count": 20
        }
      ]
    },
    {
      "cell_type": "markdown",
      "metadata": {
        "id": "lwcjPjfsYCbs"
      },
      "source": [
        "### R_emaildomain"
      ]
    },
    {
      "cell_type": "code",
      "metadata": {
        "id": "MmpaW5kPt-LA"
      },
      "source": [
        "df[['R_emaildomain_1', 'R_emaildomain_2', 'R_emaildomain_3']] = df['R_emaildomain'].str.split('.', expand=True)"
      ],
      "execution_count": 21,
      "outputs": []
    },
    {
      "cell_type": "code",
      "metadata": {
        "id": "0AX3TDUBviLI"
      },
      "source": [
        "df = df.drop('R_emaildomain', axis=1)"
      ],
      "execution_count": 22,
      "outputs": []
    },
    {
      "cell_type": "markdown",
      "metadata": {
        "id": "QPVaXa4pb0Cv"
      },
      "source": [
        "### P_emaildomain"
      ]
    },
    {
      "cell_type": "code",
      "metadata": {
        "id": "YkFD52uQuq-e"
      },
      "source": [
        "df[['P_emaildomain_1', 'P_emaildomain_2', 'P_emaildomain_3']] = df['P_emaildomain'].str.split('.', expand=True)"
      ],
      "execution_count": 23,
      "outputs": []
    },
    {
      "cell_type": "code",
      "metadata": {
        "id": "g8fs_NBUV4VC"
      },
      "source": [
        "df = df.drop('P_emaildomain', axis=1)"
      ],
      "execution_count": 24,
      "outputs": []
    },
    {
      "cell_type": "markdown",
      "metadata": {
        "id": "ZeEfW-NN2cyo"
      },
      "source": [
        "### TransactionDT & TransactionID"
      ]
    },
    {
      "cell_type": "code",
      "metadata": {
        "id": "0L0eoz95r2sk"
      },
      "source": [
        "df = df.drop('TransactionDT',axis=1)"
      ],
      "execution_count": 25,
      "outputs": []
    },
    {
      "cell_type": "code",
      "metadata": {
        "id": "q1uoQ-TrI0Od"
      },
      "source": [
        "df = df.drop('TransactionID',axis=1)"
      ],
      "execution_count": 26,
      "outputs": []
    },
    {
      "cell_type": "markdown",
      "metadata": {
        "id": "k0Mx-aLZBKhM"
      },
      "source": [
        "### Missing Values"
      ]
    },
    {
      "cell_type": "code",
      "metadata": {
        "colab": {
          "base_uri": "https://localhost:8080/"
        },
        "id": "M0umCIYNBNP8",
        "outputId": "16e81ab4-476a-461c-c7b7-26052e1d213d"
      },
      "source": [
        "nominal_cat= ['ProductCD', 'DeviceInfo', 'DeviceType'] + \\\n",
        "             ['R_emaildomain_1', 'R_emaildomain_2', 'R_emaildomain_3'] + \\\n",
        "             ['P_emaildomain_1', 'P_emaildomain_2', 'P_emaildomain_3']+ \\\n",
        "             ['id_12','id_15','id_16','id_23','id_27','id_28','id_29','id_30','id_31','id_33_1','id_33_2','id_33_3','id_34','id_35', 'id_36', 'id_37', 'id_38'] + \\\n",
        "             ['M1','M2', 'M3', 'M4', 'M5', 'M6', 'M7', 'M8', 'M9']+ \\\n",
        "             ['card4', 'card6'] \n",
        "nominal_cat= [col for col in nominal_cat if col in df.columns]\n",
        "\n",
        "ordinal_cat= [col for col in df.columns if (re.search('^id\\d*', col)) and (df[col].nunique()<200)] + \\\n",
        "             [col for col in df.columns if (re.search('^M\\d*', col)) and (df[col].nunique()<1000)] + \\\n",
        "             [col for col in df.columns if (re.search('^C\\d*', col)) and (df[col].nunique()<1000)] + \\\n",
        "             [col for col in df.columns if (re.search('^card\\d*', col)) and (df[col].nunique()<1000)] + \\\n",
        "             ['Transaction_day_of_week','Transaction_hour'] \n",
        "\n",
        "ordinal_cat = sorted( set(ordinal_cat) - set(nominal_cat) ) \n",
        "ordinal_cat = [col for col in ordinal_cat if col in df.columns]\n",
        "print(ordinal_cat)"
      ],
      "execution_count": 27,
      "outputs": [
        {
          "output_type": "stream",
          "name": "stdout",
          "text": [
            "['C5', 'C9', 'Transaction_day_of_week', 'Transaction_hour', 'card2', 'card3', 'card5', 'id_01', 'id_03', 'id_04', 'id_05', 'id_06', 'id_09', 'id_10', 'id_11', 'id_13', 'id_14', 'id_17', 'id_32']\n"
          ]
        }
      ]
    },
    {
      "cell_type": "code",
      "metadata": {
        "colab": {
          "base_uri": "https://localhost:8080/"
        },
        "id": "I8e1b5i5BNTU",
        "outputId": "66169b82-e806-474f-9482-3d94896c08b8"
      },
      "source": [
        "continous_col= sorted(set(df.columns) - set(ordinal_cat + nominal_cat))\n",
        "continous_col.remove('isFraud') \n",
        "print(continous_col)"
      ],
      "execution_count": 28,
      "outputs": [
        {
          "output_type": "stream",
          "name": "stdout",
          "text": [
            "['C1', 'C10', 'C11', 'C12', 'C13', 'C14', 'C2', 'C4', 'C6', 'C7', 'C8', 'D1', 'D10', 'D11', 'D12', 'D13', 'D14', 'D15', 'D2', 'D3', 'D4', 'D5', 'D6', 'D8', 'D9', 'TransactionAmt', 'V1', 'V10', 'V100', 'V11', 'V12', 'V126', 'V127', 'V128', 'V13', 'V130', 'V131', 'V138', 'V139', 'V140', 'V141', 'V142', 'V143', 'V144', 'V145', 'V146', 'V147', 'V148', 'V149', 'V15', 'V150', 'V151', 'V152', 'V153', 'V154', 'V155', 'V156', 'V157', 'V158', 'V159', 'V16', 'V160', 'V161', 'V162', 'V163', 'V164', 'V165', 'V166', 'V167', 'V168', 'V169', 'V17', 'V170', 'V171', 'V172', 'V173', 'V174', 'V175', 'V176', 'V177', 'V178', 'V179', 'V18', 'V180', 'V181', 'V182', 'V183', 'V184', 'V185', 'V186', 'V187', 'V188', 'V189', 'V19', 'V190', 'V191', 'V192', 'V193', 'V194', 'V195', 'V196', 'V197', 'V198', 'V199', 'V2', 'V20', 'V200', 'V201', 'V202', 'V203', 'V204', 'V205', 'V206', 'V207', 'V208', 'V209', 'V21', 'V210', 'V211', 'V212', 'V213', 'V214', 'V215', 'V216', 'V217', 'V218', 'V219', 'V22', 'V220', 'V221', 'V222', 'V223', 'V224', 'V225', 'V226', 'V227', 'V228', 'V229', 'V230', 'V231', 'V232', 'V233', 'V234', 'V235', 'V236', 'V237', 'V238', 'V239', 'V240', 'V241', 'V242', 'V243', 'V244', 'V245', 'V246', 'V247', 'V248', 'V249', 'V250', 'V251', 'V252', 'V253', 'V254', 'V255', 'V256', 'V257', 'V258', 'V259', 'V260', 'V261', 'V262', 'V263', 'V264', 'V265', 'V266', 'V267', 'V268', 'V269', 'V270', 'V271', 'V272', 'V273', 'V274', 'V275', 'V276', 'V277', 'V278', 'V279', 'V280', 'V282', 'V283', 'V285', 'V287', 'V288', 'V289', 'V29', 'V291', 'V292', 'V294', 'V3', 'V30', 'V302', 'V303', 'V304', 'V306', 'V307', 'V308', 'V31', 'V310', 'V312', 'V313', 'V314', 'V315', 'V317', 'V32', 'V322', 'V323', 'V324', 'V325', 'V326', 'V327', 'V328', 'V329', 'V33', 'V330', 'V331', 'V332', 'V333', 'V334', 'V335', 'V336', 'V337', 'V338', 'V339', 'V34', 'V35', 'V36', 'V37', 'V38', 'V39', 'V4', 'V40', 'V41', 'V42', 'V43', 'V44', 'V45', 'V46', 'V47', 'V48', 'V49', 'V5', 'V50', 'V51', 'V52', 'V53', 'V54', 'V56', 'V57', 'V58', 'V59', 'V6', 'V60', 'V61', 'V62', 'V63', 'V64', 'V69', 'V7', 'V70', 'V71', 'V72', 'V73', 'V74', 'V75', 'V76', 'V78', 'V79', 'V8', 'V80', 'V81', 'V82', 'V83', 'V84', 'V85', 'V87', 'V9', 'V90', 'V91', 'V92', 'V93', 'V94', 'V95', 'V96', 'V97', 'V99', 'addr1', 'addr2', 'card1', 'dist1', 'id_02', 'id_19', 'id_20']\n"
          ]
        }
      ]
    },
    {
      "cell_type": "code",
      "metadata": {
        "id": "preWkIKHBWcV"
      },
      "source": [
        "df[continous_col] = df[continous_col].replace([np.inf, -np.inf], np.nan)"
      ],
      "execution_count": 29,
      "outputs": []
    },
    {
      "cell_type": "code",
      "metadata": {
        "id": "KE7NfMIkBoPH"
      },
      "source": [
        "V_columns = [col for col in df.columns if re.search('^V\\d*', col)]\n",
        "df[V_columns] = df[V_columns].fillna(-1)\n",
        "\n",
        "df[nominal_cat] = df[nominal_cat].fillna('None')\n",
        "df[ordinal_cat] = df[ordinal_cat].fillna(-999)\n",
        "df[continous_col] = df[continous_col].fillna(df[continous_col].median())"
      ],
      "execution_count": 30,
      "outputs": []
    },
    {
      "cell_type": "markdown",
      "metadata": {
        "id": "nssfeUkowc2J"
      },
      "source": [
        "### Frequency Encoders"
      ]
    },
    {
      "cell_type": "code",
      "metadata": {
        "id": "NbmNLT-YNvmd"
      },
      "source": [
        "df = frequency_encoder(nominal_cat, df)\n",
        "df = df.drop(nominal_cat, axis=1)"
      ],
      "execution_count": 31,
      "outputs": []
    },
    {
      "cell_type": "code",
      "metadata": {
        "id": "i37cRVsoHpHR"
      },
      "source": [
        "df['TransactionAmt_to_mean_card1'] = df['TransactionAmt'] / df.groupby(['card1'])['TransactionAmt'].transform('mean')\n",
        "df['TransactionAmt_to_mean_card4'] = df['TransactionAmt'] / df.groupby(['card4_freq'])['TransactionAmt'].transform('mean')\n",
        "df['TransactionAmt_to_std_card1'] = df['TransactionAmt'] / df.groupby(['card1'])['TransactionAmt'].transform('std')\n",
        "df['TransactionAmt_to_std_card4'] = df['TransactionAmt'] / df.groupby(['card4_freq'])['TransactionAmt'].transform('std')\n",
        "\n",
        "df['id_02_to_mean_card1'] = df['id_02'] / df.groupby(['card1'])['id_02'].transform('mean')\n",
        "df['id_02_to_mean_card4'] = df['id_02'] / df.groupby(['card4_freq'])['id_02'].transform('mean')\n",
        "df['id_02_to_std_card1'] = df['id_02'] / df.groupby(['card1'])['id_02'].transform('std')\n",
        "df['id_02_to_std_card4'] = df['id_02'] / df.groupby(['card4_freq'])['id_02'].transform('std')\n",
        "\n",
        "df['D15_to_mean_card1'] = df['D15'] / df.groupby(['card1'])['D15'].transform('mean')\n",
        "df['D15_to_mean_card4'] = df['D15'] / df.groupby(['card4_freq'])['D15'].transform('mean')\n",
        "df['D15_to_std_card1'] = df['D15'] / df.groupby(['card1'])['D15'].transform('std')\n",
        "df['D15_to_std_card4'] = df['D15'] / df.groupby(['card4_freq'])['D15'].transform('std')\n",
        "\n",
        "df['D15_to_mean_addr1'] = df['D15'] / df.groupby(['addr1'])['D15'].transform('mean')\n",
        "df['D15_to_std_addr1'] = df['D15'] / df.groupby(['addr1'])['D15'].transform('std')\n",
        "\n",
        "# Decimal part of the transaction amount.\n",
        "df['TransactionAmt_decimal'] = ((df['TransactionAmt'] - df['TransactionAmt'].astype(int)) * 1000).astype(int)\n",
        "\n",
        "cols = list(df.columns)\n",
        "cols.remove('isFraud')\n",
        "df[cols] = df[cols].fillna(df[cols].median())"
      ],
      "execution_count": 32,
      "outputs": []
    },
    {
      "cell_type": "code",
      "metadata": {
        "id": "FzmtqTO37Tl1"
      },
      "source": [
        "train = df[df['isFraud'].notna()].reset_index().drop('index', axis=1)\n",
        "test = df[df['isFraud'].isna()].reset_index().drop('index', axis=1)\n",
        "del df"
      ],
      "execution_count": 33,
      "outputs": []
    },
    {
      "cell_type": "markdown",
      "metadata": {
        "id": "4LsAO4vSKS4j"
      },
      "source": [
        "### PCA for V Columns"
      ]
    },
    {
      "cell_type": "code",
      "metadata": {
        "id": "KUEj3l3ZGdoS"
      },
      "source": [
        "V_columns = [col for col in train.columns if re.search('^V\\d*', col)]\n",
        "\n",
        "sc_V = MinMaxScaler()\n",
        "sc_V.fit(train[V_columns])\n",
        "train[V_columns] = sc_V.transform(train[V_columns])\n",
        "test[V_columns] = sc_V.transform(test[V_columns])"
      ],
      "execution_count": 34,
      "outputs": []
    },
    {
      "cell_type": "code",
      "metadata": {
        "id": "bZtzrTawKZaj",
        "colab": {
          "base_uri": "https://localhost:8080/"
        },
        "outputId": "a71fb0df-728a-4a97-fade-7baac910356e"
      },
      "source": [
        "pca = PCA(n_components = 21)\n",
        "pca.fit(train[V_columns])\n",
        "pca_V_train = pca.transform(train[V_columns])\n",
        "pca_V_test = pca.transform(test[V_columns])\n",
        "\n",
        "np.cumsum(pca.explained_variance_ratio_)"
      ],
      "execution_count": 35,
      "outputs": [
        {
          "output_type": "execute_result",
          "data": {
            "text/plain": [
              "array([0.47443765, 0.69761739, 0.76618732, 0.81915159, 0.85423244,\n",
              "       0.88495586, 0.90853473, 0.92419495, 0.932511  , 0.93823319,\n",
              "       0.94335308, 0.94744803, 0.95119948, 0.95454271, 0.95737427,\n",
              "       0.95995375, 0.96232531, 0.96452959, 0.96668951, 0.9685924 ,\n",
              "       0.97043501])"
            ]
          },
          "metadata": {},
          "execution_count": 35
        }
      ]
    },
    {
      "cell_type": "code",
      "metadata": {
        "colab": {
          "base_uri": "https://localhost:8080/"
        },
        "id": "I4cU6qYHEl5y",
        "outputId": "87847543-6144-4b3c-ef40-f8ef366ce2a2"
      },
      "source": [
        "gc.collect()"
      ],
      "execution_count": 36,
      "outputs": [
        {
          "output_type": "execute_result",
          "data": {
            "text/plain": [
              "112"
            ]
          },
          "metadata": {},
          "execution_count": 36
        }
      ]
    },
    {
      "cell_type": "code",
      "metadata": {
        "id": "FvPx1AC11Jhg"
      },
      "source": [
        "pca_V_train = pd.DataFrame(data = pca_V_train).add_prefix('pca_V')\n",
        "train = pd.concat([train, pca_V_train], ignore_index=False, sort=False, axis=1)\n",
        "train.drop(V_columns, axis=1, inplace=True)\n",
        "\n",
        "pca_V_test = pd.DataFrame(data = pca_V_test).add_prefix('pca_V')\n",
        "test = pd.concat([test, pca_V_test], ignore_index=False, sort=False, axis=1)\n",
        "test.drop(V_columns, axis=1, inplace=True)\n"
      ],
      "execution_count": 37,
      "outputs": []
    },
    {
      "cell_type": "code",
      "metadata": {
        "id": "fo73dsVeQ1-S"
      },
      "source": [
        "del pca_V_train, pca_V_test"
      ],
      "execution_count": 38,
      "outputs": []
    },
    {
      "cell_type": "markdown",
      "metadata": {
        "id": "u6hO1_bo509h"
      },
      "source": [
        "### PCA for id Columns"
      ]
    },
    {
      "cell_type": "code",
      "metadata": {
        "id": "6GvCK_rl7Rsf"
      },
      "source": [
        "id_columns=[col for col in train.columns if re.search('^id_\\d\\d$', col)]\n",
        "id_columns.remove(\"id_20\")\n",
        "id_columns.remove(\"id_02\")\n",
        "\n",
        "sc_id = MinMaxScaler()\n",
        "sc_id.fit(train[id_columns])\n",
        "train[id_columns] = sc_id.transform(train[id_columns])\n",
        "test[id_columns] = sc_id.transform(test[id_columns])"
      ],
      "execution_count": 39,
      "outputs": []
    },
    {
      "cell_type": "code",
      "metadata": {
        "colab": {
          "base_uri": "https://localhost:8080/"
        },
        "id": "lg0bnbuyDfNG",
        "outputId": "cf3c9f79-81e2-4dc7-a711-1593d7c0d7bf"
      },
      "source": [
        "pca = PCA(n_components = 4)\n",
        "pca.fit(train[id_columns])\n",
        "pca_id_train = pca.transform(train[id_columns])\n",
        "pca_id_test = pca.transform(test[id_columns])\n",
        "\n",
        "np.cumsum(pca.explained_variance_ratio_)"
      ],
      "execution_count": 40,
      "outputs": [
        {
          "output_type": "execute_result",
          "data": {
            "text/plain": [
              "array([0.80152192, 0.91721408, 0.96029468, 0.97580567])"
            ]
          },
          "metadata": {},
          "execution_count": 40
        }
      ]
    },
    {
      "cell_type": "code",
      "metadata": {
        "id": "LAPRvn3SDfNH"
      },
      "source": [
        "pca_id_train = pd.DataFrame(data = pca_id_train).add_prefix('pca_id')\n",
        "train = pd.concat([train, pca_id_train], ignore_index=False, sort=False, axis=1)\n",
        "train.drop(id_columns, axis=1, inplace=True)\n",
        "\n",
        "pca_id_test = pd.DataFrame(data = pca_id_test).add_prefix('pca_id')\n",
        "test = pd.concat([test, pca_id_test], ignore_index=False, sort=False, axis=1)\n",
        "test.drop(id_columns, axis=1, inplace=True)"
      ],
      "execution_count": 41,
      "outputs": []
    },
    {
      "cell_type": "code",
      "metadata": {
        "id": "yhsyzVtxROft"
      },
      "source": [
        "del pca_id_train, pca_id_test"
      ],
      "execution_count": 42,
      "outputs": []
    },
    {
      "cell_type": "code",
      "metadata": {
        "colab": {
          "base_uri": "https://localhost:8080/"
        },
        "id": "-cq2e8zWDfNH",
        "outputId": "1868bd77-b269-4691-cb9d-9e5b4825da6a"
      },
      "source": [
        "gc.collect()"
      ],
      "execution_count": 43,
      "outputs": [
        {
          "output_type": "execute_result",
          "data": {
            "text/plain": [
              "100"
            ]
          },
          "metadata": {},
          "execution_count": 43
        }
      ]
    },
    {
      "cell_type": "markdown",
      "metadata": {
        "id": "1mMclsyJ_lO2"
      },
      "source": [
        "### PCA for C Columns"
      ]
    },
    {
      "cell_type": "code",
      "metadata": {
        "id": "K_nDB0-vFVtu"
      },
      "source": [
        "C_columns = [col for col in train.columns if re.search('^C\\d*', col)]\n",
        "\n",
        "sc_C = MinMaxScaler()\n",
        "sc_C.fit(train[C_columns])\n",
        "train[C_columns] = sc_C.transform(train[C_columns])\n",
        "test[C_columns] = sc_C.transform(test[C_columns])"
      ],
      "execution_count": 44,
      "outputs": []
    },
    {
      "cell_type": "code",
      "metadata": {
        "colab": {
          "base_uri": "https://localhost:8080/"
        },
        "id": "ntDwoCM0FVtv",
        "outputId": "2ef25ee5-5b7f-42f4-bcb8-2b360fd50d18"
      },
      "source": [
        "pca = PCA(n_components = 2)\n",
        "pca.fit(train[C_columns])\n",
        "pca_C_train = pca.transform(train[C_columns])\n",
        "pca_C_test = pca.transform(test[C_columns])\n",
        "\n",
        "np.cumsum(pca.explained_variance_ratio_)"
      ],
      "execution_count": 45,
      "outputs": [
        {
          "output_type": "execute_result",
          "data": {
            "text/plain": [
              "array([0.60192569, 0.96560961])"
            ]
          },
          "metadata": {},
          "execution_count": 45
        }
      ]
    },
    {
      "cell_type": "code",
      "metadata": {
        "colab": {
          "base_uri": "https://localhost:8080/"
        },
        "id": "-qr4--0GFVtv",
        "outputId": "11b320b8-a94b-4c48-e27f-7d28f5f8f40a"
      },
      "source": [
        "gc.collect()"
      ],
      "execution_count": 46,
      "outputs": [
        {
          "output_type": "execute_result",
          "data": {
            "text/plain": [
              "50"
            ]
          },
          "metadata": {},
          "execution_count": 46
        }
      ]
    },
    {
      "cell_type": "code",
      "metadata": {
        "id": "IYwwrw4DFVtw"
      },
      "source": [
        "pca_C_train = pd.DataFrame(data = pca_C_train).add_prefix('pca_C')\n",
        "train = pd.concat([train, pca_C_train], ignore_index=False, sort=False, axis=1)\n",
        "train.drop(C_columns, axis=1, inplace=True)\n",
        "\n",
        "pca_C_test = pd.DataFrame(data = pca_C_test).add_prefix('pca_C')\n",
        "test = pd.concat([test, pca_C_test], ignore_index=False, sort=False, axis=1)\n",
        "test.drop(C_columns, axis=1, inplace=True)\n"
      ],
      "execution_count": 47,
      "outputs": []
    },
    {
      "cell_type": "markdown",
      "metadata": {
        "id": "uy4I-a7B0ELe"
      },
      "source": [
        "### Export Data"
      ]
    },
    {
      "cell_type": "code",
      "metadata": {
        "id": "5k4mKJTOwhGq"
      },
      "source": [
        "test = test.drop('isFraud', axis=1)"
      ],
      "execution_count": 48,
      "outputs": []
    },
    {
      "cell_type": "code",
      "metadata": {
        "id": "A7IDLZHo0DS1",
        "colab": {
          "base_uri": "https://localhost:8080/"
        },
        "outputId": "9687e187-9899-417a-b0e1-51e6a7f8f85e"
      },
      "source": [
        "# train.to_pickle('/content/drive/MyDrive/Colab Notebooks/Fraud Detection/train_last.pkl')\n",
        "# test.to_pickle('/content/drive/MyDrive/Colab Notebooks/Fraud Detection/test_last.pkl')\n",
        "train= pd.read_pickle('/content/drive/MyDrive/Colab Notebooks/Fraud Detection/input/train_last.pkl')\n",
        "# test= pd.read_pickle('/content/drive/MyDrive/Colab Notebooks/Fraud Detection/input/test_last.pkl')\n",
        "gc.collect()"
      ],
      "execution_count": 74,
      "outputs": [
        {
          "output_type": "execute_result",
          "data": {
            "text/plain": [
              "17580"
            ]
          },
          "metadata": {},
          "execution_count": 74
        }
      ]
    },
    {
      "cell_type": "code",
      "metadata": {
        "colab": {
          "base_uri": "https://localhost:8080/"
        },
        "id": "K8KM2-JTzDIN",
        "outputId": "cccd742e-112e-415e-b37e-8a955f83fe79"
      },
      "source": [
        "df = train.copy()\n",
        "del train\n",
        "# del test\n",
        "\n",
        "df = reduce_mem_usage(df)"
      ],
      "execution_count": 75,
      "outputs": [
        {
          "output_type": "stream",
          "name": "stdout",
          "text": [
            "Mem. usage decreased to 131.78 Mb (40.9% reduction)\n"
          ]
        }
      ]
    },
    {
      "cell_type": "markdown",
      "metadata": {
        "id": "RsPeflD0ES-7"
      },
      "source": [
        "## Modeling with LightGBM"
      ]
    },
    {
      "cell_type": "code",
      "metadata": {
        "id": "ZKD5iFuWEvEO"
      },
      "source": [
        "import pandas as pd\n",
        "import numpy as np\n",
        "import multiprocessing\n",
        "import warnings\n",
        "import matplotlib.pyplot as plt\n",
        "import seaborn as sns\n",
        "import gc\n",
        "from time import time\n",
        "import datetime\n",
        "from tqdm import tqdm_notebook\n",
        "from sklearn.preprocessing import LabelEncoder\n",
        "from sklearn.model_selection import KFold, TimeSeriesSplit\n",
        "from sklearn.metrics import roc_auc_score\n",
        "\n",
        "# for modeling \n",
        "import sklearn\n",
        "from lightgbm import LGBMClassifier\n",
        "from xgboost.sklearn import XGBClassifier\n",
        "from sklearn.model_selection import StratifiedKFold, KFold, RepeatedKFold, GroupKFold, GridSearchCV, train_test_split, TimeSeriesSplit\n",
        "from sklearn.model_selection import GridSearchCV, RandomizedSearchCV, cross_val_score, train_test_split, KFold\n",
        "from sklearn.metrics import confusion_matrix, accuracy_score, roc_auc_score, classification_report, recall_score, f1_score\n",
        "from sklearn.metrics import plot_precision_recall_curve, precision_recall_curve, plot_roc_curve, roc_curve, plot_confusion_matrix\n",
        "from sklearn.preprocessing import StandardScaler, MinMaxScaler\n",
        "from sklearn import datasets, metrics\n",
        "from sklearn.decomposition import PCA\n",
        "\n",
        "# to avoid warnings\n",
        "import warnings\n",
        "warnings.filterwarnings('ignore')\n",
        "warnings.warn(\"this will not show\")\n",
        "\n",
        "\n",
        "\n",
        "warnings.simplefilter('ignore')\n",
        "sns.set()\n",
        "%matplotlib inline"
      ],
      "execution_count": 76,
      "outputs": []
    },
    {
      "cell_type": "code",
      "metadata": {
        "id": "wKJpo9l5NhZU"
      },
      "source": [
        "X = df.drop(['isFraud'], axis=1)\n",
        "y = df['isFraud']\n",
        "\n",
        "X_train, X_test, y_train, y_test = train_test_split(X, y, stratify=y, random_state =101)"
      ],
      "execution_count": 77,
      "outputs": []
    },
    {
      "cell_type": "code",
      "metadata": {
        "id": "WvMgyB9vNhhj"
      },
      "source": [
        "# LGBMClassifier with GPU\n",
        "\n",
        "clf = LGBMClassifier(\n",
        "          num_leaves = 256,\n",
        "          min_child_samples = 79,\n",
        "          objective = 'binary',\n",
        "          max_depth = 13,\n",
        "          learning_rate = 0.03,\n",
        "          boosting_type = \"gbdt\",\n",
        "          subsample_freq = 3,\n",
        "          subsample = 0.9,\n",
        "          bagging_seed = 11,\n",
        "          metric = 'auc',\n",
        "          verbosity = -1,\n",
        "          reg_alpha = 0.3,\n",
        "          reg_lambda = 0.3,\n",
        "          colsample_bytree = 0.9,\n",
        "          is_unbalance = True,\n",
        ")"
      ],
      "execution_count": 78,
      "outputs": []
    },
    {
      "cell_type": "code",
      "metadata": {
        "colab": {
          "base_uri": "https://localhost:8080/"
        },
        "id": "NDhaqpOWNhk5",
        "outputId": "3280e288-8b39-4eb9-a5d3-310763b42167"
      },
      "source": [
        "%time \n",
        "clf.fit(X_train, y_train)\n",
        "# %time prints CPU Times and Wall Time"
      ],
      "execution_count": 79,
      "outputs": [
        {
          "output_type": "stream",
          "name": "stdout",
          "text": [
            "CPU times: user 5 µs, sys: 0 ns, total: 5 µs\n",
            "Wall time: 10.5 µs\n"
          ]
        },
        {
          "output_type": "execute_result",
          "data": {
            "text/plain": [
              "LGBMClassifier(bagging_seed=11, boosting_type='gbdt', class_weight=None,\n",
              "               colsample_bytree=0.9, importance_type='split', is_unbalance=True,\n",
              "               learning_rate=0.03, max_depth=13, metric='auc',\n",
              "               min_child_samples=79, min_child_weight=0.001, min_split_gain=0.0,\n",
              "               n_estimators=100, n_jobs=-1, num_leaves=256, objective='binary',\n",
              "               random_state=None, reg_alpha=0.3, reg_lambda=0.3, silent=True,\n",
              "               subsample=0.9, subsample_for_bin=200000, subsample_freq=3,\n",
              "               verbosity=-1)"
            ]
          },
          "metadata": {},
          "execution_count": 79
        }
      ]
    },
    {
      "cell_type": "code",
      "metadata": {
        "colab": {
          "base_uri": "https://localhost:8080/"
        },
        "id": "TQvSxIgqWL9V",
        "outputId": "9b7b41b9-06f9-4c90-d19b-ef9ba3ff1633"
      },
      "source": [
        "gc.collect()"
      ],
      "execution_count": 80,
      "outputs": [
        {
          "output_type": "execute_result",
          "data": {
            "text/plain": [
              "256"
            ]
          },
          "metadata": {},
          "execution_count": 80
        }
      ]
    },
    {
      "cell_type": "markdown",
      "metadata": {
        "id": "g19-Xt2vDmEb"
      },
      "source": [
        "### Feature Importance"
      ]
    },
    {
      "cell_type": "code",
      "metadata": {
        "colab": {
          "base_uri": "https://localhost:8080/",
          "height": 610
        },
        "id": "znPtBOGyXCMl",
        "outputId": "385e199f-c788-487f-ccf9-3a92980b5df9"
      },
      "source": [
        "plot_feature_importances(clf, 30)"
      ],
      "execution_count": 81,
      "outputs": [
        {
          "output_type": "display_data",
          "data": {
            "image/png": "[encoded data removed]",
            "text/plain": [
              "<Figure size 1440x720 with 1 Axes>"
            ]
          },
          "metadata": {
            "needs_background": "light"
          }
        }
      ]
    },
    {
      "cell_type": "markdown",
      "metadata": {
        "id": "zHZrIyP-D2yk"
      },
      "source": [
        "### Model Evaluation"
      ]
    },
    {
      "cell_type": "code",
      "metadata": {
        "id": "mS1BxdkDc1bY"
      },
      "source": [
        "y_pred = clf.predict(X_test)"
      ],
      "execution_count": 82,
      "outputs": []
    },
    {
      "cell_type": "code",
      "metadata": {
        "colab": {
          "base_uri": "https://localhost:8080/",
          "height": 438
        },
        "id": "hDB--Cg5Yw5i",
        "outputId": "fcb50a17-f268-4aa1-99a2-683a71a3e567"
      },
      "source": [
        "plot_confusion_matrix(clf, X_test, y_test, values_format = '', \n",
        "                      display_labels=['Not Fraud', 'Fraud'])\n",
        "plt.grid(None)\n",
        "print(classification_report(y_test, y_pred, zero_division=0))"
      ],
      "execution_count": 83,
      "outputs": [
        {
          "output_type": "stream",
          "name": "stdout",
          "text": [
            "              precision    recall  f1-score   support\n",
            "\n",
            "         0.0       0.99      0.92      0.96    142469\n",
            "         1.0       0.27      0.80      0.40      5166\n",
            "\n",
            "    accuracy                           0.92    147635\n",
            "   macro avg       0.63      0.86      0.68    147635\n",
            "weighted avg       0.97      0.92      0.94    147635\n",
            "\n"
          ]
        },
        {
          "output_type": "display_data",
          "data": {
            "image/png": "[encoded data removed]",
            "text/plain": [
              "<Figure size 432x288 with 2 Axes>"
            ]
          },
          "metadata": {
            "needs_background": "light"
          }
        }
      ]
    },
    {
      "cell_type": "code",
      "metadata": {
        "colab": {
          "base_uri": "https://localhost:8080/",
          "height": 438
        },
        "id": "Bn68qbuKAlRA",
        "outputId": "ceeef0f2-0704-4812-a7d5-6dcfc5f3dc7b"
      },
      "source": [
        "y_train_pred = clf.predict(X_train)\n",
        "plot_confusion_matrix(clf, X_train, y_train, values_format = '', \n",
        "                      display_labels=['Not Fraud', 'Fraud'])\n",
        "plt.grid(None)\n",
        "print(classification_report(y_train, y_train_pred, zero_division=0))"
      ],
      "execution_count": 84,
      "outputs": [
        {
          "output_type": "stream",
          "name": "stdout",
          "text": [
            "              precision    recall  f1-score   support\n",
            "\n",
            "         0.0       1.00      0.93      0.96    427408\n",
            "         1.0       0.31      0.91      0.46     15497\n",
            "\n",
            "    accuracy                           0.92    442905\n",
            "   macro avg       0.65      0.92      0.71    442905\n",
            "weighted avg       0.97      0.92      0.94    442905\n",
            "\n"
          ]
        },
        {
          "output_type": "display_data",
          "data": {
            "image/png": "[encoded data removed]",
            "text/plain": [
              "<Figure size 432x288 with 2 Axes>"
            ]
          },
          "metadata": {
            "needs_background": "light"
          }
        }
      ]
    },
    {
      "cell_type": "code",
      "metadata": {
        "colab": {
          "base_uri": "https://localhost:8080/"
        },
        "id": "HcDncGHhji0i",
        "outputId": "ea871764-0125-480b-e592-b11449404893"
      },
      "source": [
        "print('Test ROC AUC score:', roc_auc_score(y_test, clf.predict_proba(X_test)[:, 1]))\n",
        "print('Train ROC AUC score:', roc_auc_score(y_train, clf.predict_proba(X_train)[:, 1]))"
      ],
      "execution_count": 85,
      "outputs": [
        {
          "output_type": "stream",
          "name": "stdout",
          "text": [
            "Test ROC AUC score: 0.9378933653522529\n",
            "Train ROC AUC score: 0.9766556666766617\n"
          ]
        }
      ]
    },
    {
      "cell_type": "code",
      "metadata": {
        "id": "zRJjqAl3rzoy",
        "colab": {
          "base_uri": "https://localhost:8080/",
          "height": 715
        },
        "outputId": "c49b2c0c-a8d6-4bf4-f97f-1ee92de62180"
      },
      "source": [
        "from sklearn import metrics\n",
        "\n",
        "clf.fit(X_train, y_train)\n",
        "y_pred = clf.predict_proba(X_test)[:, 1]\n",
        "\n",
        "auc = metrics.roc_auc_score(y_test, y_pred)\n",
        "\n",
        "false_positive_rate, true_positive_rate, thresolds = metrics.roc_curve(y_test, y_pred)\n",
        "\n",
        "plt.figure(figsize=(8, 8), dpi=100)\n",
        "plt.axis('scaled')\n",
        "plt.xlim([0, 1])\n",
        "plt.ylim([0, 1])\n",
        "plt.title(\"AUC & ROC Curve\")\n",
        "plt.plot(false_positive_rate, true_positive_rate, 'g')\n",
        "plt.fill_between(false_positive_rate, true_positive_rate, facecolor='lightgreen', alpha=0.7)\n",
        "plt.text(0.95, 0.05, 'AUC = %0.4f' % auc, ha='right', fontsize=12, weight='bold', color='blue')\n",
        "plt.xlabel(\"False Positive Rate\")\n",
        "plt.ylabel(\"True Positive Rate\")\n",
        "plt.show()"
      ],
      "execution_count": 86,
      "outputs": [
        {
          "output_type": "display_data",
          "data": {
            "image/png": "[encoded data removed]",
            "text/plain": [
              "<Figure size 800x800 with 1 Axes>"
            ]
          },
          "metadata": {
            "needs_background": "light"
          }
        }
      ]
    },
    {
      "cell_type": "code",
      "metadata": {
        "id": "2TPWW1j7x5kR"
      },
      "source": [
        ""
      ],
      "execution_count": null,
      "outputs": []
    },
    {
      "cell_type": "markdown",
      "metadata": {
        "id": "Trhew7cDx63i"
      },
      "source": [
        "### Training with all train data"
      ]
    },
    {
      "cell_type": "code",
      "metadata": {
        "id": "jhoWcl3Hx-fi"
      },
      "source": [
        "X = df.drop(['isFraud'], axis=1)\n",
        "y = df['isFraud']"
      ],
      "execution_count": 129,
      "outputs": []
    },
    {
      "cell_type": "code",
      "metadata": {
        "id": "Q9umGY6ayHoL"
      },
      "source": [
        "# LGBMClassifier with GPU\n",
        "\n",
        "clf = LGBMClassifier(\n",
        "          num_leaves = 256,\n",
        "          min_child_samples = 79,\n",
        "          objective = 'binary',\n",
        "          max_depth = 13,\n",
        "          learning_rate = 0.03,\n",
        "          boosting_type = \"gbdt\",\n",
        "          subsample_freq = 3,\n",
        "          subsample = 0.9,\n",
        "          bagging_seed = 11,\n",
        "          metric = 'auc',\n",
        "          verbosity = -1,\n",
        "          reg_alpha = 0.3,\n",
        "          reg_lambda = 0.3,\n",
        "          colsample_bytree = 0.9,\n",
        "          is_unbalance = True,\n",
        ")"
      ],
      "execution_count": 130,
      "outputs": []
    },
    {
      "cell_type": "code",
      "metadata": {
        "colab": {
          "base_uri": "https://localhost:8080/"
        },
        "id": "coUulakuyHoL",
        "outputId": "1e6708ad-4529-42f9-8758-4b3cf5a104db"
      },
      "source": [
        "%time \n",
        "clf.fit(X, y)\n",
        "# %time prints CPU Times and Wall Time"
      ],
      "execution_count": 131,
      "outputs": [
        {
          "output_type": "stream",
          "name": "stdout",
          "text": [
            "CPU times: user 4 µs, sys: 0 ns, total: 4 µs\n",
            "Wall time: 8.82 µs\n"
          ]
        },
        {
          "output_type": "execute_result",
          "data": {
            "text/plain": [
              "LGBMClassifier(bagging_seed=11, boosting_type='gbdt', class_weight=None,\n",
              "               colsample_bytree=0.9, importance_type='split', is_unbalance=True,\n",
              "               learning_rate=0.03, max_depth=13, metric='auc',\n",
              "               min_child_samples=79, min_child_weight=0.001, min_split_gain=0.0,\n",
              "               n_estimators=100, n_jobs=-1, num_leaves=256, objective='binary',\n",
              "               random_state=None, reg_alpha=0.3, reg_lambda=0.3, silent=True,\n",
              "               subsample=0.9, subsample_for_bin=200000, subsample_freq=3,\n",
              "               verbosity=-1)"
            ]
          },
          "metadata": {},
          "execution_count": 131
        }
      ]
    },
    {
      "cell_type": "code",
      "metadata": {
        "colab": {
          "base_uri": "https://localhost:8080/"
        },
        "id": "pzSqGpvayHoM",
        "outputId": "4b2c2960-0c5d-4dc1-f87c-753e8c1d9815"
      },
      "source": [
        "gc.collect()"
      ],
      "execution_count": 142,
      "outputs": [
        {
          "output_type": "execute_result",
          "data": {
            "text/plain": [
              "813"
            ]
          },
          "metadata": {},
          "execution_count": 142
        }
      ]
    },
    {
      "cell_type": "markdown",
      "metadata": {
        "id": "6CXkfrmjyL46"
      },
      "source": [
        "### Predict test data"
      ]
    },
    {
      "cell_type": "code",
      "metadata": {
        "id": "UhQhSNicsmyt"
      },
      "source": [
        "test= pd.read_pickle('/content/drive/MyDrive/Colab Notebooks/Fraud Detection/input/test_last.pkl')"
      ],
      "execution_count": 88,
      "outputs": []
    },
    {
      "cell_type": "code",
      "metadata": {
        "id": "FK6VGuzq12QM"
      },
      "source": [
        "sub= pd.read_csv('/content/drive/MyDrive/Colab Notebooks/Fraud Detection/input/sample_submission.csv.zip')"
      ],
      "execution_count": 90,
      "outputs": []
    },
    {
      "cell_type": "code",
      "metadata": {
        "id": "2CNFQGla2Smc"
      },
      "source": [
        "sub['isFraud']=pd.DataFrame(clf.predict_proba(test))[[1]]"
      ],
      "execution_count": 133,
      "outputs": []
    },
    {
      "cell_type": "code",
      "metadata": {
        "id": "5ogSL1Mt3Prq"
      },
      "source": [
        "sub.to_csv('/content/drive/MyDrive/Colab Notebooks/Fraud Detection/submission.csv',index=False)"
      ],
      "execution_count": 134,
      "outputs": []
    },
    {
      "cell_type": "code",
      "metadata": {
        "colab": {
          "base_uri": "https://localhost:8080/",
          "height": 419
        },
        "id": "EMG7BKbWzz2u",
        "outputId": "595d26f1-ca43-443f-8a62-5615498a554a"
      },
      "source": [
        "sub"
      ],
      "execution_count": 143,
      "outputs": [
        {
          "output_type": "execute_result",
          "data": {
            "text/html": [
              "<div>\n",
              "<style scoped>\n",
              "    .dataframe tbody tr th:only-of-type {\n",
              "        vertical-align: middle;\n",
              "    }\n",
              "\n",
              "    .dataframe tbody tr th {\n",
              "        vertical-align: top;\n",
              "    }\n",
              "\n",
              "    .dataframe thead th {\n",
              "        text-align: right;\n",
              "    }\n",
              "</style>\n",
              "<table border=\"1\" class=\"dataframe\">\n",
              "  <thead>\n",
              "    <tr style=\"text-align: right;\">\n",
              "      <th></th>\n",
              "      <th>TransactionID</th>\n",
              "      <th>isFraud</th>\n",
              "    </tr>\n",
              "  </thead>\n",
              "  <tbody>\n",
              "    <tr>\n",
              "      <th>0</th>\n",
              "      <td>3663549</td>\n",
              "      <td>0.046354</td>\n",
              "    </tr>\n",
              "    <tr>\n",
              "      <th>1</th>\n",
              "      <td>3663550</td>\n",
              "      <td>0.139229</td>\n",
              "    </tr>\n",
              "    <tr>\n",
              "      <th>2</th>\n",
              "      <td>3663551</td>\n",
              "      <td>0.155210</td>\n",
              "    </tr>\n",
              "    <tr>\n",
              "      <th>3</th>\n",
              "      <td>3663552</td>\n",
              "      <td>0.074451</td>\n",
              "    </tr>\n",
              "    <tr>\n",
              "      <th>4</th>\n",
              "      <td>3663553</td>\n",
              "      <td>0.084334</td>\n",
              "    </tr>\n",
              "    <tr>\n",
              "      <th>...</th>\n",
              "      <td>...</td>\n",
              "      <td>...</td>\n",
              "    </tr>\n",
              "    <tr>\n",
              "      <th>506686</th>\n",
              "      <td>4170235</td>\n",
              "      <td>0.238379</td>\n",
              "    </tr>\n",
              "    <tr>\n",
              "      <th>506687</th>\n",
              "      <td>4170236</td>\n",
              "      <td>0.282795</td>\n",
              "    </tr>\n",
              "    <tr>\n",
              "      <th>506688</th>\n",
              "      <td>4170237</td>\n",
              "      <td>0.144010</td>\n",
              "    </tr>\n",
              "    <tr>\n",
              "      <th>506689</th>\n",
              "      <td>4170238</td>\n",
              "      <td>0.128291</td>\n",
              "    </tr>\n",
              "    <tr>\n",
              "      <th>506690</th>\n",
              "      <td>4170239</td>\n",
              "      <td>0.124203</td>\n",
              "    </tr>\n",
              "  </tbody>\n",
              "</table>\n",
              "<p>506691 rows × 2 columns</p>\n",
              "</div>"
            ],
            "text/plain": [
              "        TransactionID   isFraud\n",
              "0             3663549  0.046354\n",
              "1             3663550  0.139229\n",
              "2             3663551  0.155210\n",
              "3             3663552  0.074451\n",
              "4             3663553  0.084334\n",
              "...               ...       ...\n",
              "506686        4170235  0.238379\n",
              "506687        4170236  0.282795\n",
              "506688        4170237  0.144010\n",
              "506689        4170238  0.128291\n",
              "506690        4170239  0.124203\n",
              "\n",
              "[506691 rows x 2 columns]"
            ]
          },
          "metadata": {},
          "execution_count": 143
        }
      ]
    }
  ]
}