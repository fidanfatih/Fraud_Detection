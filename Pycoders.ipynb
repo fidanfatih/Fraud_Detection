{
  "nbformat": 4,
  "nbformat_minor": 0,
  "metadata": {
    "colab": {
      "name": "Pycoders.ipynb",
      "provenance": [],
      "collapsed_sections": [
        "OV28RJBeMuHb",
        "hlm6gCsKMuHb",
        "zKZcwgucJQ0I",
        "4f8q5y12MuHe",
        "9wvBCEvpJQ0U",
        "_3zm70O7JQ0Z"
      ],
      "toc_visible": true,
      "include_colab_link": true
    },
    "kernelspec": {
      "display_name": "Python 3",
      "language": "python",
      "name": "python3"
    },
    "language_info": {
      "codemirror_mode": {
        "name": "ipython",
        "version": 3
      },
      "file_extension": ".py",
      "mimetype": "text/x-python",
      "name": "python",
      "nbconvert_exporter": "python",
      "pygments_lexer": "ipython3",
      "version": "3.8.5"
    },
    "accelerator": "GPU"
  },
  "cells": [
    {
      "cell_type": "markdown",
      "metadata": {
        "id": "view-in-github",
        "colab_type": "text"
      },
      "source": [
        "<a href=\"https://colab.research.google.com/github/fidanfatih/Fraud_Detection/blob/main/Pycoders.ipynb\" target=\"_parent\"><img src=\"https://colab.research.google.com/assets/colab-badge.svg\" alt=\"Open In Colab\"/></a>"
      ]
    },
    {
      "cell_type": "markdown",
      "metadata": {
        "id": "jx3Ut_rjMuHR"
      },
      "source": [
        "___\n",
        "\n",
        "<p style=\"text-align: center;\"><img src=\"https://docs.google.com/uc?id=1lY0Uj5R04yMY3-ZppPWxqCr5pvBLYPnV\" class=\"img-fluid\" alt=\"CLRSWY\"></p>\n",
        "\n",
        "___"
      ]
    },
    {
      "cell_type": "markdown",
      "metadata": {
        "id": "-24P_wByMuHX"
      },
      "source": [
        "# WELCOME!"
      ]
    },
    {
      "cell_type": "markdown",
      "metadata": {
        "id": "Ow9AD-4vMuHX"
      },
      "source": [
        "Welcome to \"***Fraud Detection Project***\". This is the last project of the Capstone Series.\n",
        "\n",
        "One of the challenges in this project is the absence of domain knowledge. So without knowing what the column names are, you will only be interested in their values. The other one is the class frequencies of the target variable are quite imbalanced.\n",
        "\n",
        "You will implement ***Logistic Regression, Random Forest, Neural Network*** algorithms and ***SMOTE*** technique. Also visualize performances of the models using ***Seaborn, Matplotlib*** and ***Yellowbrick*** in a variety of ways.\n",
        "\n",
        "At the end of the project, you will have the opportunity to deploy your model by ***Flask API***.\n",
        "\n",
        "Before diving into the project, please take a look at the Determines and Tasks.\n",
        "\n",
        "- ***NOTE:*** *This tutorial assumes that you already know the basics of coding in Python and are familiar with model deployement (flask api) as well as the theory behind Logistic Regression, Random Forest, Neural Network.*\n",
        "\n"
      ]
    },
    {
      "cell_type": "markdown",
      "metadata": {
        "id": "dqbMkIZ-MuHY"
      },
      "source": [
        "---\n",
        "---\n"
      ]
    },
    {
      "cell_type": "markdown",
      "metadata": {
        "id": "spCFDhO7MuHY"
      },
      "source": [
        "# #Determines\n",
        "The datasets contains transactions made by credit cards in September 2013 by european cardholders. This dataset presents transactions that occurred in two days, where it has **492 frauds** out of **284,807** transactions. The dataset is **highly unbalanced**, the positive class (frauds) account for 0.172% of all transactions.\n",
        "\n",
        "**Feature Information:**\n",
        "\n",
        "**Time**: This feature is contains the seconds elapsed between each transaction and the first transaction in the dataset. \n",
        "\n",
        "**Amount**:  This feature is the transaction Amount, can be used for example-dependant cost-senstive learning. \n",
        "\n",
        "**Class**: This feature is the target variable and it takes value 1 in case of fraud and 0 otherwise.\n",
        "\n",
        "---\n",
        "\n",
        "The aim of this project is to predict whether a credit card transaction is fraudulent. Of course, this is not easy to do.\n",
        "First of all, you need to analyze and recognize your data well in order to draw your roadmap and choose the correct arguments you will use. Accordingly, you can examine the frequency distributions of variables. You can observe variable correlations and want to explore multicollinearity. You can show the distribution of the target variable's classes over other variables. \n",
        "Also, it is useful to take missing values and outliers.\n",
        "\n",
        "After these procedures, you can move on to the model building stage by doing the basic data pre-processing you are familiar with. \n",
        "\n",
        "Start with Logistic Regression and evaluate model performance. You will apply the SMOTE technique used to increase the sample for unbalanced data. Next, rebuild your Logistic Regression model with SMOTE applied data to observe its effect.\n",
        "\n",
        "Then, you will use three different algorithms in the model building phase. You have applied Logistic Regression and Random Forest in your previous projects. However, the Deep Learning Neural Network algorithm will appear for the first time.\n",
        "\n",
        "In the final step, you will deploy your model using ***Flask API***."
      ]
    },
    {
      "cell_type": "markdown",
      "metadata": {
        "id": "YOl6z9mXMuHY"
      },
      "source": [
        "---\n",
        "---\n"
      ]
    },
    {
      "cell_type": "markdown",
      "metadata": {
        "id": "1o6X3hLLMuHZ"
      },
      "source": [
        "# #Tasks\n",
        "\n",
        "#### 1. Exploratory Data Analysis & Data Cleaning\n",
        "\n",
        "- Import Modules, Load Data & Data Review\n",
        "- Exploratory Data Analysis\n",
        "- Data Cleaning\n",
        "\n",
        "\n",
        "\n",
        "    \n",
        "#### 2. Data Preprocessing\n",
        "\n",
        "- Scaling\n",
        "- Train - Test Split\n",
        "\n",
        "\n",
        "#### 3. Model Building\n",
        "\n",
        "- Logistic Regression without SMOTE\n",
        "- Apply SMOTE\n",
        "- Logistic Regression with SMOTE\n",
        "- Random Forest Classifier with SMOTE\n",
        "- Neural Network\n",
        "\n",
        "#### 4. Model Deployement\n",
        "\n",
        "- Save and Export the Model as .pkl\n",
        "- Save and Export Variables as .pkl \n",
        "\n",
        "\n"
      ]
    },
    {
      "cell_type": "markdown",
      "metadata": {
        "id": "9sDSWJywMuHZ"
      },
      "source": [
        "---\n",
        "---\n"
      ]
    },
    {
      "cell_type": "markdown",
      "metadata": {
        "id": "fbFMU3AdMuHZ"
      },
      "source": [
        "## 1. Exploratory Data Analysis & Data Cleaning"
      ]
    },
    {
      "cell_type": "markdown",
      "metadata": {
        "id": "5nmI08_GMuHZ"
      },
      "source": [
        "### Import Modules, Load Data & Data Review"
      ]
    },
    {
      "cell_type": "code",
      "metadata": {
        "id": "yKZtJybfMuHa"
      },
      "source": [
        "import pandas as pd\n",
        "import numpy as np\n",
        "import matplotlib.pyplot as plt\n",
        "import seaborn as sns\n",
        "import warnings\n",
        "warnings.filterwarnings('ignore')\n",
        "warnings.warn(\"this will not show\")"
      ],
      "execution_count": 1,
      "outputs": []
    },
    {
      "cell_type": "code",
      "metadata": {
        "id": "kE2qSmw-4AEc"
      },
      "source": [
        "from google.colab import drive\n",
        "drive.mount('/content/drive')"
      ],
      "execution_count": null,
      "outputs": []
    },
    {
      "cell_type": "code",
      "metadata": {
        "id": "oibn59iW37-5",
        "outputId": "a2578fe1-dcb2-472f-ecfe-064b7c29da0c"
      },
      "source": [
        "df_tr=pd.read_csv('train_transaction.csv.zip')\n",
        "df_tr"
      ],
      "execution_count": null,
      "outputs": [
        {
          "output_type": "execute_result",
          "data": {
            "text/html": [
              "<div>\n",
              "<style scoped>\n",
              "    .dataframe tbody tr th:only-of-type {\n",
              "        vertical-align: middle;\n",
              "    }\n",
              "\n",
              "    .dataframe tbody tr th {\n",
              "        vertical-align: top;\n",
              "    }\n",
              "\n",
              "    .dataframe thead th {\n",
              "        text-align: right;\n",
              "    }\n",
              "</style>\n",
              "<table border=\"1\" class=\"dataframe\">\n",
              "  <thead>\n",
              "    <tr style=\"text-align: right;\">\n",
              "      <th></th>\n",
              "      <th>TransactionID</th>\n",
              "      <th>isFraud</th>\n",
              "      <th>TransactionDT</th>\n",
              "      <th>TransactionAmt</th>\n",
              "      <th>ProductCD</th>\n",
              "      <th>card1</th>\n",
              "      <th>card2</th>\n",
              "      <th>card3</th>\n",
              "      <th>card4</th>\n",
              "      <th>card5</th>\n",
              "      <th>...</th>\n",
              "      <th>V330</th>\n",
              "      <th>V331</th>\n",
              "      <th>V332</th>\n",
              "      <th>V333</th>\n",
              "      <th>V334</th>\n",
              "      <th>V335</th>\n",
              "      <th>V336</th>\n",
              "      <th>V337</th>\n",
              "      <th>V338</th>\n",
              "      <th>V339</th>\n",
              "    </tr>\n",
              "  </thead>\n",
              "  <tbody>\n",
              "    <tr>\n",
              "      <th>0</th>\n",
              "      <td>2987000</td>\n",
              "      <td>0</td>\n",
              "      <td>86400</td>\n",
              "      <td>68.50</td>\n",
              "      <td>W</td>\n",
              "      <td>13926</td>\n",
              "      <td>NaN</td>\n",
              "      <td>150.0</td>\n",
              "      <td>discover</td>\n",
              "      <td>142.0</td>\n",
              "      <td>...</td>\n",
              "      <td>NaN</td>\n",
              "      <td>NaN</td>\n",
              "      <td>NaN</td>\n",
              "      <td>NaN</td>\n",
              "      <td>NaN</td>\n",
              "      <td>NaN</td>\n",
              "      <td>NaN</td>\n",
              "      <td>NaN</td>\n",
              "      <td>NaN</td>\n",
              "      <td>NaN</td>\n",
              "    </tr>\n",
              "    <tr>\n",
              "      <th>1</th>\n",
              "      <td>2987001</td>\n",
              "      <td>0</td>\n",
              "      <td>86401</td>\n",
              "      <td>29.00</td>\n",
              "      <td>W</td>\n",
              "      <td>2755</td>\n",
              "      <td>404.0</td>\n",
              "      <td>150.0</td>\n",
              "      <td>mastercard</td>\n",
              "      <td>102.0</td>\n",
              "      <td>...</td>\n",
              "      <td>NaN</td>\n",
              "      <td>NaN</td>\n",
              "      <td>NaN</td>\n",
              "      <td>NaN</td>\n",
              "      <td>NaN</td>\n",
              "      <td>NaN</td>\n",
              "      <td>NaN</td>\n",
              "      <td>NaN</td>\n",
              "      <td>NaN</td>\n",
              "      <td>NaN</td>\n",
              "    </tr>\n",
              "    <tr>\n",
              "      <th>2</th>\n",
              "      <td>2987002</td>\n",
              "      <td>0</td>\n",
              "      <td>86469</td>\n",
              "      <td>59.00</td>\n",
              "      <td>W</td>\n",
              "      <td>4663</td>\n",
              "      <td>490.0</td>\n",
              "      <td>150.0</td>\n",
              "      <td>visa</td>\n",
              "      <td>166.0</td>\n",
              "      <td>...</td>\n",
              "      <td>NaN</td>\n",
              "      <td>NaN</td>\n",
              "      <td>NaN</td>\n",
              "      <td>NaN</td>\n",
              "      <td>NaN</td>\n",
              "      <td>NaN</td>\n",
              "      <td>NaN</td>\n",
              "      <td>NaN</td>\n",
              "      <td>NaN</td>\n",
              "      <td>NaN</td>\n",
              "    </tr>\n",
              "    <tr>\n",
              "      <th>3</th>\n",
              "      <td>2987003</td>\n",
              "      <td>0</td>\n",
              "      <td>86499</td>\n",
              "      <td>50.00</td>\n",
              "      <td>W</td>\n",
              "      <td>18132</td>\n",
              "      <td>567.0</td>\n",
              "      <td>150.0</td>\n",
              "      <td>mastercard</td>\n",
              "      <td>117.0</td>\n",
              "      <td>...</td>\n",
              "      <td>NaN</td>\n",
              "      <td>NaN</td>\n",
              "      <td>NaN</td>\n",
              "      <td>NaN</td>\n",
              "      <td>NaN</td>\n",
              "      <td>NaN</td>\n",
              "      <td>NaN</td>\n",
              "      <td>NaN</td>\n",
              "      <td>NaN</td>\n",
              "      <td>NaN</td>\n",
              "    </tr>\n",
              "    <tr>\n",
              "      <th>4</th>\n",
              "      <td>2987004</td>\n",
              "      <td>0</td>\n",
              "      <td>86506</td>\n",
              "      <td>50.00</td>\n",
              "      <td>H</td>\n",
              "      <td>4497</td>\n",
              "      <td>514.0</td>\n",
              "      <td>150.0</td>\n",
              "      <td>mastercard</td>\n",
              "      <td>102.0</td>\n",
              "      <td>...</td>\n",
              "      <td>0.0</td>\n",
              "      <td>0.0</td>\n",
              "      <td>0.0</td>\n",
              "      <td>0.0</td>\n",
              "      <td>0.0</td>\n",
              "      <td>0.0</td>\n",
              "      <td>0.0</td>\n",
              "      <td>0.0</td>\n",
              "      <td>0.0</td>\n",
              "      <td>0.0</td>\n",
              "    </tr>\n",
              "    <tr>\n",
              "      <th>...</th>\n",
              "      <td>...</td>\n",
              "      <td>...</td>\n",
              "      <td>...</td>\n",
              "      <td>...</td>\n",
              "      <td>...</td>\n",
              "      <td>...</td>\n",
              "      <td>...</td>\n",
              "      <td>...</td>\n",
              "      <td>...</td>\n",
              "      <td>...</td>\n",
              "      <td>...</td>\n",
              "      <td>...</td>\n",
              "      <td>...</td>\n",
              "      <td>...</td>\n",
              "      <td>...</td>\n",
              "      <td>...</td>\n",
              "      <td>...</td>\n",
              "      <td>...</td>\n",
              "      <td>...</td>\n",
              "      <td>...</td>\n",
              "      <td>...</td>\n",
              "    </tr>\n",
              "    <tr>\n",
              "      <th>590535</th>\n",
              "      <td>3577535</td>\n",
              "      <td>0</td>\n",
              "      <td>15811047</td>\n",
              "      <td>49.00</td>\n",
              "      <td>W</td>\n",
              "      <td>6550</td>\n",
              "      <td>NaN</td>\n",
              "      <td>150.0</td>\n",
              "      <td>visa</td>\n",
              "      <td>226.0</td>\n",
              "      <td>...</td>\n",
              "      <td>NaN</td>\n",
              "      <td>NaN</td>\n",
              "      <td>NaN</td>\n",
              "      <td>NaN</td>\n",
              "      <td>NaN</td>\n",
              "      <td>NaN</td>\n",
              "      <td>NaN</td>\n",
              "      <td>NaN</td>\n",
              "      <td>NaN</td>\n",
              "      <td>NaN</td>\n",
              "    </tr>\n",
              "    <tr>\n",
              "      <th>590536</th>\n",
              "      <td>3577536</td>\n",
              "      <td>0</td>\n",
              "      <td>15811049</td>\n",
              "      <td>39.50</td>\n",
              "      <td>W</td>\n",
              "      <td>10444</td>\n",
              "      <td>225.0</td>\n",
              "      <td>150.0</td>\n",
              "      <td>mastercard</td>\n",
              "      <td>224.0</td>\n",
              "      <td>...</td>\n",
              "      <td>NaN</td>\n",
              "      <td>NaN</td>\n",
              "      <td>NaN</td>\n",
              "      <td>NaN</td>\n",
              "      <td>NaN</td>\n",
              "      <td>NaN</td>\n",
              "      <td>NaN</td>\n",
              "      <td>NaN</td>\n",
              "      <td>NaN</td>\n",
              "      <td>NaN</td>\n",
              "    </tr>\n",
              "    <tr>\n",
              "      <th>590537</th>\n",
              "      <td>3577537</td>\n",
              "      <td>0</td>\n",
              "      <td>15811079</td>\n",
              "      <td>30.95</td>\n",
              "      <td>W</td>\n",
              "      <td>12037</td>\n",
              "      <td>595.0</td>\n",
              "      <td>150.0</td>\n",
              "      <td>mastercard</td>\n",
              "      <td>224.0</td>\n",
              "      <td>...</td>\n",
              "      <td>NaN</td>\n",
              "      <td>NaN</td>\n",
              "      <td>NaN</td>\n",
              "      <td>NaN</td>\n",
              "      <td>NaN</td>\n",
              "      <td>NaN</td>\n",
              "      <td>NaN</td>\n",
              "      <td>NaN</td>\n",
              "      <td>NaN</td>\n",
              "      <td>NaN</td>\n",
              "    </tr>\n",
              "    <tr>\n",
              "      <th>590538</th>\n",
              "      <td>3577538</td>\n",
              "      <td>0</td>\n",
              "      <td>15811088</td>\n",
              "      <td>117.00</td>\n",
              "      <td>W</td>\n",
              "      <td>7826</td>\n",
              "      <td>481.0</td>\n",
              "      <td>150.0</td>\n",
              "      <td>mastercard</td>\n",
              "      <td>224.0</td>\n",
              "      <td>...</td>\n",
              "      <td>NaN</td>\n",
              "      <td>NaN</td>\n",
              "      <td>NaN</td>\n",
              "      <td>NaN</td>\n",
              "      <td>NaN</td>\n",
              "      <td>NaN</td>\n",
              "      <td>NaN</td>\n",
              "      <td>NaN</td>\n",
              "      <td>NaN</td>\n",
              "      <td>NaN</td>\n",
              "    </tr>\n",
              "    <tr>\n",
              "      <th>590539</th>\n",
              "      <td>3577539</td>\n",
              "      <td>0</td>\n",
              "      <td>15811131</td>\n",
              "      <td>279.95</td>\n",
              "      <td>W</td>\n",
              "      <td>15066</td>\n",
              "      <td>170.0</td>\n",
              "      <td>150.0</td>\n",
              "      <td>mastercard</td>\n",
              "      <td>102.0</td>\n",
              "      <td>...</td>\n",
              "      <td>NaN</td>\n",
              "      <td>NaN</td>\n",
              "      <td>NaN</td>\n",
              "      <td>NaN</td>\n",
              "      <td>NaN</td>\n",
              "      <td>NaN</td>\n",
              "      <td>NaN</td>\n",
              "      <td>NaN</td>\n",
              "      <td>NaN</td>\n",
              "      <td>NaN</td>\n",
              "    </tr>\n",
              "  </tbody>\n",
              "</table>\n",
              "<p>590540 rows × 394 columns</p>\n",
              "</div>"
            ],
            "text/plain": [
              "        TransactionID  isFraud  TransactionDT  TransactionAmt ProductCD  \\\n",
              "0             2987000        0          86400           68.50         W   \n",
              "1             2987001        0          86401           29.00         W   \n",
              "2             2987002        0          86469           59.00         W   \n",
              "3             2987003        0          86499           50.00         W   \n",
              "4             2987004        0          86506           50.00         H   \n",
              "...               ...      ...            ...             ...       ...   \n",
              "590535        3577535        0       15811047           49.00         W   \n",
              "590536        3577536        0       15811049           39.50         W   \n",
              "590537        3577537        0       15811079           30.95         W   \n",
              "590538        3577538        0       15811088          117.00         W   \n",
              "590539        3577539        0       15811131          279.95         W   \n",
              "\n",
              "        card1  card2  card3       card4  card5  ... V330  V331  V332  V333  \\\n",
              "0       13926    NaN  150.0    discover  142.0  ...  NaN   NaN   NaN   NaN   \n",
              "1        2755  404.0  150.0  mastercard  102.0  ...  NaN   NaN   NaN   NaN   \n",
              "2        4663  490.0  150.0        visa  166.0  ...  NaN   NaN   NaN   NaN   \n",
              "3       18132  567.0  150.0  mastercard  117.0  ...  NaN   NaN   NaN   NaN   \n",
              "4        4497  514.0  150.0  mastercard  102.0  ...  0.0   0.0   0.0   0.0   \n",
              "...       ...    ...    ...         ...    ...  ...  ...   ...   ...   ...   \n",
              "590535   6550    NaN  150.0        visa  226.0  ...  NaN   NaN   NaN   NaN   \n",
              "590536  10444  225.0  150.0  mastercard  224.0  ...  NaN   NaN   NaN   NaN   \n",
              "590537  12037  595.0  150.0  mastercard  224.0  ...  NaN   NaN   NaN   NaN   \n",
              "590538   7826  481.0  150.0  mastercard  224.0  ...  NaN   NaN   NaN   NaN   \n",
              "590539  15066  170.0  150.0  mastercard  102.0  ...  NaN   NaN   NaN   NaN   \n",
              "\n",
              "        V334 V335 V336  V337  V338  V339  \n",
              "0        NaN  NaN  NaN   NaN   NaN   NaN  \n",
              "1        NaN  NaN  NaN   NaN   NaN   NaN  \n",
              "2        NaN  NaN  NaN   NaN   NaN   NaN  \n",
              "3        NaN  NaN  NaN   NaN   NaN   NaN  \n",
              "4        0.0  0.0  0.0   0.0   0.0   0.0  \n",
              "...      ...  ...  ...   ...   ...   ...  \n",
              "590535   NaN  NaN  NaN   NaN   NaN   NaN  \n",
              "590536   NaN  NaN  NaN   NaN   NaN   NaN  \n",
              "590537   NaN  NaN  NaN   NaN   NaN   NaN  \n",
              "590538   NaN  NaN  NaN   NaN   NaN   NaN  \n",
              "590539   NaN  NaN  NaN   NaN   NaN   NaN  \n",
              "\n",
              "[590540 rows x 394 columns]"
            ]
          },
          "metadata": {
            "tags": []
          },
          "execution_count": 7
        }
      ]
    },
    {
      "cell_type": "code",
      "metadata": {
        "id": "tpw9lo8c37-5",
        "outputId": "973a2901-4bb9-461b-cbaa-e72e74900cff"
      },
      "source": [
        "df_id=pd.read_csv('train_identity.csv.zip')\n",
        "df_id"
      ],
      "execution_count": null,
      "outputs": [
        {
          "output_type": "execute_result",
          "data": {
            "text/html": [
              "<div>\n",
              "<style scoped>\n",
              "    .dataframe tbody tr th:only-of-type {\n",
              "        vertical-align: middle;\n",
              "    }\n",
              "\n",
              "    .dataframe tbody tr th {\n",
              "        vertical-align: top;\n",
              "    }\n",
              "\n",
              "    .dataframe thead th {\n",
              "        text-align: right;\n",
              "    }\n",
              "</style>\n",
              "<table border=\"1\" class=\"dataframe\">\n",
              "  <thead>\n",
              "    <tr style=\"text-align: right;\">\n",
              "      <th></th>\n",
              "      <th>TransactionID</th>\n",
              "      <th>id_01</th>\n",
              "      <th>id_02</th>\n",
              "      <th>id_03</th>\n",
              "      <th>id_04</th>\n",
              "      <th>id_05</th>\n",
              "      <th>id_06</th>\n",
              "      <th>id_07</th>\n",
              "      <th>id_08</th>\n",
              "      <th>id_09</th>\n",
              "      <th>...</th>\n",
              "      <th>id_31</th>\n",
              "      <th>id_32</th>\n",
              "      <th>id_33</th>\n",
              "      <th>id_34</th>\n",
              "      <th>id_35</th>\n",
              "      <th>id_36</th>\n",
              "      <th>id_37</th>\n",
              "      <th>id_38</th>\n",
              "      <th>DeviceType</th>\n",
              "      <th>DeviceInfo</th>\n",
              "    </tr>\n",
              "  </thead>\n",
              "  <tbody>\n",
              "    <tr>\n",
              "      <th>0</th>\n",
              "      <td>2987004</td>\n",
              "      <td>0.0</td>\n",
              "      <td>70787.0</td>\n",
              "      <td>NaN</td>\n",
              "      <td>NaN</td>\n",
              "      <td>NaN</td>\n",
              "      <td>NaN</td>\n",
              "      <td>NaN</td>\n",
              "      <td>NaN</td>\n",
              "      <td>NaN</td>\n",
              "      <td>...</td>\n",
              "      <td>samsung browser 6.2</td>\n",
              "      <td>32.0</td>\n",
              "      <td>2220x1080</td>\n",
              "      <td>match_status:2</td>\n",
              "      <td>T</td>\n",
              "      <td>F</td>\n",
              "      <td>T</td>\n",
              "      <td>T</td>\n",
              "      <td>mobile</td>\n",
              "      <td>SAMSUNG SM-G892A Build/NRD90M</td>\n",
              "    </tr>\n",
              "    <tr>\n",
              "      <th>1</th>\n",
              "      <td>2987008</td>\n",
              "      <td>-5.0</td>\n",
              "      <td>98945.0</td>\n",
              "      <td>NaN</td>\n",
              "      <td>NaN</td>\n",
              "      <td>0.0</td>\n",
              "      <td>-5.0</td>\n",
              "      <td>NaN</td>\n",
              "      <td>NaN</td>\n",
              "      <td>NaN</td>\n",
              "      <td>...</td>\n",
              "      <td>mobile safari 11.0</td>\n",
              "      <td>32.0</td>\n",
              "      <td>1334x750</td>\n",
              "      <td>match_status:1</td>\n",
              "      <td>T</td>\n",
              "      <td>F</td>\n",
              "      <td>F</td>\n",
              "      <td>T</td>\n",
              "      <td>mobile</td>\n",
              "      <td>iOS Device</td>\n",
              "    </tr>\n",
              "    <tr>\n",
              "      <th>2</th>\n",
              "      <td>2987010</td>\n",
              "      <td>-5.0</td>\n",
              "      <td>191631.0</td>\n",
              "      <td>0.0</td>\n",
              "      <td>0.0</td>\n",
              "      <td>0.0</td>\n",
              "      <td>0.0</td>\n",
              "      <td>NaN</td>\n",
              "      <td>NaN</td>\n",
              "      <td>0.0</td>\n",
              "      <td>...</td>\n",
              "      <td>chrome 62.0</td>\n",
              "      <td>NaN</td>\n",
              "      <td>NaN</td>\n",
              "      <td>NaN</td>\n",
              "      <td>F</td>\n",
              "      <td>F</td>\n",
              "      <td>T</td>\n",
              "      <td>T</td>\n",
              "      <td>desktop</td>\n",
              "      <td>Windows</td>\n",
              "    </tr>\n",
              "    <tr>\n",
              "      <th>3</th>\n",
              "      <td>2987011</td>\n",
              "      <td>-5.0</td>\n",
              "      <td>221832.0</td>\n",
              "      <td>NaN</td>\n",
              "      <td>NaN</td>\n",
              "      <td>0.0</td>\n",
              "      <td>-6.0</td>\n",
              "      <td>NaN</td>\n",
              "      <td>NaN</td>\n",
              "      <td>NaN</td>\n",
              "      <td>...</td>\n",
              "      <td>chrome 62.0</td>\n",
              "      <td>NaN</td>\n",
              "      <td>NaN</td>\n",
              "      <td>NaN</td>\n",
              "      <td>F</td>\n",
              "      <td>F</td>\n",
              "      <td>T</td>\n",
              "      <td>T</td>\n",
              "      <td>desktop</td>\n",
              "      <td>NaN</td>\n",
              "    </tr>\n",
              "    <tr>\n",
              "      <th>4</th>\n",
              "      <td>2987016</td>\n",
              "      <td>0.0</td>\n",
              "      <td>7460.0</td>\n",
              "      <td>0.0</td>\n",
              "      <td>0.0</td>\n",
              "      <td>1.0</td>\n",
              "      <td>0.0</td>\n",
              "      <td>NaN</td>\n",
              "      <td>NaN</td>\n",
              "      <td>0.0</td>\n",
              "      <td>...</td>\n",
              "      <td>chrome 62.0</td>\n",
              "      <td>24.0</td>\n",
              "      <td>1280x800</td>\n",
              "      <td>match_status:2</td>\n",
              "      <td>T</td>\n",
              "      <td>F</td>\n",
              "      <td>T</td>\n",
              "      <td>T</td>\n",
              "      <td>desktop</td>\n",
              "      <td>MacOS</td>\n",
              "    </tr>\n",
              "    <tr>\n",
              "      <th>...</th>\n",
              "      <td>...</td>\n",
              "      <td>...</td>\n",
              "      <td>...</td>\n",
              "      <td>...</td>\n",
              "      <td>...</td>\n",
              "      <td>...</td>\n",
              "      <td>...</td>\n",
              "      <td>...</td>\n",
              "      <td>...</td>\n",
              "      <td>...</td>\n",
              "      <td>...</td>\n",
              "      <td>...</td>\n",
              "      <td>...</td>\n",
              "      <td>...</td>\n",
              "      <td>...</td>\n",
              "      <td>...</td>\n",
              "      <td>...</td>\n",
              "      <td>...</td>\n",
              "      <td>...</td>\n",
              "      <td>...</td>\n",
              "      <td>...</td>\n",
              "    </tr>\n",
              "    <tr>\n",
              "      <th>144228</th>\n",
              "      <td>3577521</td>\n",
              "      <td>-15.0</td>\n",
              "      <td>145955.0</td>\n",
              "      <td>0.0</td>\n",
              "      <td>0.0</td>\n",
              "      <td>0.0</td>\n",
              "      <td>0.0</td>\n",
              "      <td>NaN</td>\n",
              "      <td>NaN</td>\n",
              "      <td>0.0</td>\n",
              "      <td>...</td>\n",
              "      <td>chrome 66.0 for android</td>\n",
              "      <td>NaN</td>\n",
              "      <td>NaN</td>\n",
              "      <td>NaN</td>\n",
              "      <td>F</td>\n",
              "      <td>F</td>\n",
              "      <td>T</td>\n",
              "      <td>F</td>\n",
              "      <td>mobile</td>\n",
              "      <td>F3111 Build/33.3.A.1.97</td>\n",
              "    </tr>\n",
              "    <tr>\n",
              "      <th>144229</th>\n",
              "      <td>3577526</td>\n",
              "      <td>-5.0</td>\n",
              "      <td>172059.0</td>\n",
              "      <td>NaN</td>\n",
              "      <td>NaN</td>\n",
              "      <td>1.0</td>\n",
              "      <td>-5.0</td>\n",
              "      <td>NaN</td>\n",
              "      <td>NaN</td>\n",
              "      <td>NaN</td>\n",
              "      <td>...</td>\n",
              "      <td>chrome 55.0 for android</td>\n",
              "      <td>32.0</td>\n",
              "      <td>855x480</td>\n",
              "      <td>match_status:2</td>\n",
              "      <td>T</td>\n",
              "      <td>F</td>\n",
              "      <td>T</td>\n",
              "      <td>F</td>\n",
              "      <td>mobile</td>\n",
              "      <td>A574BL Build/NMF26F</td>\n",
              "    </tr>\n",
              "    <tr>\n",
              "      <th>144230</th>\n",
              "      <td>3577529</td>\n",
              "      <td>-20.0</td>\n",
              "      <td>632381.0</td>\n",
              "      <td>NaN</td>\n",
              "      <td>NaN</td>\n",
              "      <td>-1.0</td>\n",
              "      <td>-36.0</td>\n",
              "      <td>NaN</td>\n",
              "      <td>NaN</td>\n",
              "      <td>NaN</td>\n",
              "      <td>...</td>\n",
              "      <td>chrome 65.0 for android</td>\n",
              "      <td>NaN</td>\n",
              "      <td>NaN</td>\n",
              "      <td>NaN</td>\n",
              "      <td>F</td>\n",
              "      <td>F</td>\n",
              "      <td>T</td>\n",
              "      <td>F</td>\n",
              "      <td>mobile</td>\n",
              "      <td>Moto E (4) Plus Build/NMA26.42-152</td>\n",
              "    </tr>\n",
              "    <tr>\n",
              "      <th>144231</th>\n",
              "      <td>3577531</td>\n",
              "      <td>-5.0</td>\n",
              "      <td>55528.0</td>\n",
              "      <td>0.0</td>\n",
              "      <td>0.0</td>\n",
              "      <td>0.0</td>\n",
              "      <td>-7.0</td>\n",
              "      <td>NaN</td>\n",
              "      <td>NaN</td>\n",
              "      <td>0.0</td>\n",
              "      <td>...</td>\n",
              "      <td>chrome 66.0</td>\n",
              "      <td>24.0</td>\n",
              "      <td>2560x1600</td>\n",
              "      <td>match_status:2</td>\n",
              "      <td>T</td>\n",
              "      <td>F</td>\n",
              "      <td>T</td>\n",
              "      <td>F</td>\n",
              "      <td>desktop</td>\n",
              "      <td>MacOS</td>\n",
              "    </tr>\n",
              "    <tr>\n",
              "      <th>144232</th>\n",
              "      <td>3577534</td>\n",
              "      <td>-45.0</td>\n",
              "      <td>339406.0</td>\n",
              "      <td>NaN</td>\n",
              "      <td>NaN</td>\n",
              "      <td>-10.0</td>\n",
              "      <td>-100.0</td>\n",
              "      <td>NaN</td>\n",
              "      <td>NaN</td>\n",
              "      <td>NaN</td>\n",
              "      <td>...</td>\n",
              "      <td>chrome 66.0 for android</td>\n",
              "      <td>NaN</td>\n",
              "      <td>NaN</td>\n",
              "      <td>NaN</td>\n",
              "      <td>F</td>\n",
              "      <td>F</td>\n",
              "      <td>T</td>\n",
              "      <td>F</td>\n",
              "      <td>mobile</td>\n",
              "      <td>RNE-L03 Build/HUAWEIRNE-L03</td>\n",
              "    </tr>\n",
              "  </tbody>\n",
              "</table>\n",
              "<p>144233 rows × 41 columns</p>\n",
              "</div>"
            ],
            "text/plain": [
              "        TransactionID  id_01     id_02  id_03  id_04  id_05  id_06  id_07  \\\n",
              "0             2987004    0.0   70787.0    NaN    NaN    NaN    NaN    NaN   \n",
              "1             2987008   -5.0   98945.0    NaN    NaN    0.0   -5.0    NaN   \n",
              "2             2987010   -5.0  191631.0    0.0    0.0    0.0    0.0    NaN   \n",
              "3             2987011   -5.0  221832.0    NaN    NaN    0.0   -6.0    NaN   \n",
              "4             2987016    0.0    7460.0    0.0    0.0    1.0    0.0    NaN   \n",
              "...               ...    ...       ...    ...    ...    ...    ...    ...   \n",
              "144228        3577521  -15.0  145955.0    0.0    0.0    0.0    0.0    NaN   \n",
              "144229        3577526   -5.0  172059.0    NaN    NaN    1.0   -5.0    NaN   \n",
              "144230        3577529  -20.0  632381.0    NaN    NaN   -1.0  -36.0    NaN   \n",
              "144231        3577531   -5.0   55528.0    0.0    0.0    0.0   -7.0    NaN   \n",
              "144232        3577534  -45.0  339406.0    NaN    NaN  -10.0 -100.0    NaN   \n",
              "\n",
              "        id_08  id_09  ...                    id_31  id_32      id_33  \\\n",
              "0         NaN    NaN  ...      samsung browser 6.2   32.0  2220x1080   \n",
              "1         NaN    NaN  ...       mobile safari 11.0   32.0   1334x750   \n",
              "2         NaN    0.0  ...              chrome 62.0    NaN        NaN   \n",
              "3         NaN    NaN  ...              chrome 62.0    NaN        NaN   \n",
              "4         NaN    0.0  ...              chrome 62.0   24.0   1280x800   \n",
              "...       ...    ...  ...                      ...    ...        ...   \n",
              "144228    NaN    0.0  ...  chrome 66.0 for android    NaN        NaN   \n",
              "144229    NaN    NaN  ...  chrome 55.0 for android   32.0    855x480   \n",
              "144230    NaN    NaN  ...  chrome 65.0 for android    NaN        NaN   \n",
              "144231    NaN    0.0  ...              chrome 66.0   24.0  2560x1600   \n",
              "144232    NaN    NaN  ...  chrome 66.0 for android    NaN        NaN   \n",
              "\n",
              "                 id_34  id_35 id_36 id_37  id_38  DeviceType  \\\n",
              "0       match_status:2      T     F     T      T      mobile   \n",
              "1       match_status:1      T     F     F      T      mobile   \n",
              "2                  NaN      F     F     T      T     desktop   \n",
              "3                  NaN      F     F     T      T     desktop   \n",
              "4       match_status:2      T     F     T      T     desktop   \n",
              "...                ...    ...   ...   ...    ...         ...   \n",
              "144228             NaN      F     F     T      F      mobile   \n",
              "144229  match_status:2      T     F     T      F      mobile   \n",
              "144230             NaN      F     F     T      F      mobile   \n",
              "144231  match_status:2      T     F     T      F     desktop   \n",
              "144232             NaN      F     F     T      F      mobile   \n",
              "\n",
              "                                DeviceInfo  \n",
              "0            SAMSUNG SM-G892A Build/NRD90M  \n",
              "1                               iOS Device  \n",
              "2                                  Windows  \n",
              "3                                      NaN  \n",
              "4                                    MacOS  \n",
              "...                                    ...  \n",
              "144228             F3111 Build/33.3.A.1.97  \n",
              "144229                 A574BL Build/NMF26F  \n",
              "144230  Moto E (4) Plus Build/NMA26.42-152  \n",
              "144231                               MacOS  \n",
              "144232         RNE-L03 Build/HUAWEIRNE-L03  \n",
              "\n",
              "[144233 rows x 41 columns]"
            ]
          },
          "metadata": {
            "tags": []
          },
          "execution_count": 8
        }
      ]
    },
    {
      "cell_type": "code",
      "metadata": {
        "id": "6dc9KlHN37-5",
        "outputId": "ee5777a9-7d12-4109-c2a9-f4ac81390e37"
      },
      "source": [
        "df = df_tr.merge(df_id, how='left', on='TransactionID')\n",
        "df"
      ],
      "execution_count": null,
      "outputs": [
        {
          "output_type": "execute_result",
          "data": {
            "text/html": [
              "<div>\n",
              "<style scoped>\n",
              "    .dataframe tbody tr th:only-of-type {\n",
              "        vertical-align: middle;\n",
              "    }\n",
              "\n",
              "    .dataframe tbody tr th {\n",
              "        vertical-align: top;\n",
              "    }\n",
              "\n",
              "    .dataframe thead th {\n",
              "        text-align: right;\n",
              "    }\n",
              "</style>\n",
              "<table border=\"1\" class=\"dataframe\">\n",
              "  <thead>\n",
              "    <tr style=\"text-align: right;\">\n",
              "      <th></th>\n",
              "      <th>TransactionID</th>\n",
              "      <th>isFraud</th>\n",
              "      <th>TransactionDT</th>\n",
              "      <th>TransactionAmt</th>\n",
              "      <th>ProductCD</th>\n",
              "      <th>card1</th>\n",
              "      <th>card2</th>\n",
              "      <th>card3</th>\n",
              "      <th>card4</th>\n",
              "      <th>card5</th>\n",
              "      <th>...</th>\n",
              "      <th>id_31</th>\n",
              "      <th>id_32</th>\n",
              "      <th>id_33</th>\n",
              "      <th>id_34</th>\n",
              "      <th>id_35</th>\n",
              "      <th>id_36</th>\n",
              "      <th>id_37</th>\n",
              "      <th>id_38</th>\n",
              "      <th>DeviceType</th>\n",
              "      <th>DeviceInfo</th>\n",
              "    </tr>\n",
              "  </thead>\n",
              "  <tbody>\n",
              "    <tr>\n",
              "      <th>0</th>\n",
              "      <td>2987000</td>\n",
              "      <td>0</td>\n",
              "      <td>86400</td>\n",
              "      <td>68.50</td>\n",
              "      <td>W</td>\n",
              "      <td>13926</td>\n",
              "      <td>NaN</td>\n",
              "      <td>150.0</td>\n",
              "      <td>discover</td>\n",
              "      <td>142.0</td>\n",
              "      <td>...</td>\n",
              "      <td>NaN</td>\n",
              "      <td>NaN</td>\n",
              "      <td>NaN</td>\n",
              "      <td>NaN</td>\n",
              "      <td>NaN</td>\n",
              "      <td>NaN</td>\n",
              "      <td>NaN</td>\n",
              "      <td>NaN</td>\n",
              "      <td>NaN</td>\n",
              "      <td>NaN</td>\n",
              "    </tr>\n",
              "    <tr>\n",
              "      <th>1</th>\n",
              "      <td>2987001</td>\n",
              "      <td>0</td>\n",
              "      <td>86401</td>\n",
              "      <td>29.00</td>\n",
              "      <td>W</td>\n",
              "      <td>2755</td>\n",
              "      <td>404.0</td>\n",
              "      <td>150.0</td>\n",
              "      <td>mastercard</td>\n",
              "      <td>102.0</td>\n",
              "      <td>...</td>\n",
              "      <td>NaN</td>\n",
              "      <td>NaN</td>\n",
              "      <td>NaN</td>\n",
              "      <td>NaN</td>\n",
              "      <td>NaN</td>\n",
              "      <td>NaN</td>\n",
              "      <td>NaN</td>\n",
              "      <td>NaN</td>\n",
              "      <td>NaN</td>\n",
              "      <td>NaN</td>\n",
              "    </tr>\n",
              "    <tr>\n",
              "      <th>2</th>\n",
              "      <td>2987002</td>\n",
              "      <td>0</td>\n",
              "      <td>86469</td>\n",
              "      <td>59.00</td>\n",
              "      <td>W</td>\n",
              "      <td>4663</td>\n",
              "      <td>490.0</td>\n",
              "      <td>150.0</td>\n",
              "      <td>visa</td>\n",
              "      <td>166.0</td>\n",
              "      <td>...</td>\n",
              "      <td>NaN</td>\n",
              "      <td>NaN</td>\n",
              "      <td>NaN</td>\n",
              "      <td>NaN</td>\n",
              "      <td>NaN</td>\n",
              "      <td>NaN</td>\n",
              "      <td>NaN</td>\n",
              "      <td>NaN</td>\n",
              "      <td>NaN</td>\n",
              "      <td>NaN</td>\n",
              "    </tr>\n",
              "    <tr>\n",
              "      <th>3</th>\n",
              "      <td>2987003</td>\n",
              "      <td>0</td>\n",
              "      <td>86499</td>\n",
              "      <td>50.00</td>\n",
              "      <td>W</td>\n",
              "      <td>18132</td>\n",
              "      <td>567.0</td>\n",
              "      <td>150.0</td>\n",
              "      <td>mastercard</td>\n",
              "      <td>117.0</td>\n",
              "      <td>...</td>\n",
              "      <td>NaN</td>\n",
              "      <td>NaN</td>\n",
              "      <td>NaN</td>\n",
              "      <td>NaN</td>\n",
              "      <td>NaN</td>\n",
              "      <td>NaN</td>\n",
              "      <td>NaN</td>\n",
              "      <td>NaN</td>\n",
              "      <td>NaN</td>\n",
              "      <td>NaN</td>\n",
              "    </tr>\n",
              "    <tr>\n",
              "      <th>4</th>\n",
              "      <td>2987004</td>\n",
              "      <td>0</td>\n",
              "      <td>86506</td>\n",
              "      <td>50.00</td>\n",
              "      <td>H</td>\n",
              "      <td>4497</td>\n",
              "      <td>514.0</td>\n",
              "      <td>150.0</td>\n",
              "      <td>mastercard</td>\n",
              "      <td>102.0</td>\n",
              "      <td>...</td>\n",
              "      <td>samsung browser 6.2</td>\n",
              "      <td>32.0</td>\n",
              "      <td>2220x1080</td>\n",
              "      <td>match_status:2</td>\n",
              "      <td>T</td>\n",
              "      <td>F</td>\n",
              "      <td>T</td>\n",
              "      <td>T</td>\n",
              "      <td>mobile</td>\n",
              "      <td>SAMSUNG SM-G892A Build/NRD90M</td>\n",
              "    </tr>\n",
              "    <tr>\n",
              "      <th>...</th>\n",
              "      <td>...</td>\n",
              "      <td>...</td>\n",
              "      <td>...</td>\n",
              "      <td>...</td>\n",
              "      <td>...</td>\n",
              "      <td>...</td>\n",
              "      <td>...</td>\n",
              "      <td>...</td>\n",
              "      <td>...</td>\n",
              "      <td>...</td>\n",
              "      <td>...</td>\n",
              "      <td>...</td>\n",
              "      <td>...</td>\n",
              "      <td>...</td>\n",
              "      <td>...</td>\n",
              "      <td>...</td>\n",
              "      <td>...</td>\n",
              "      <td>...</td>\n",
              "      <td>...</td>\n",
              "      <td>...</td>\n",
              "      <td>...</td>\n",
              "    </tr>\n",
              "    <tr>\n",
              "      <th>590535</th>\n",
              "      <td>3577535</td>\n",
              "      <td>0</td>\n",
              "      <td>15811047</td>\n",
              "      <td>49.00</td>\n",
              "      <td>W</td>\n",
              "      <td>6550</td>\n",
              "      <td>NaN</td>\n",
              "      <td>150.0</td>\n",
              "      <td>visa</td>\n",
              "      <td>226.0</td>\n",
              "      <td>...</td>\n",
              "      <td>NaN</td>\n",
              "      <td>NaN</td>\n",
              "      <td>NaN</td>\n",
              "      <td>NaN</td>\n",
              "      <td>NaN</td>\n",
              "      <td>NaN</td>\n",
              "      <td>NaN</td>\n",
              "      <td>NaN</td>\n",
              "      <td>NaN</td>\n",
              "      <td>NaN</td>\n",
              "    </tr>\n",
              "    <tr>\n",
              "      <th>590536</th>\n",
              "      <td>3577536</td>\n",
              "      <td>0</td>\n",
              "      <td>15811049</td>\n",
              "      <td>39.50</td>\n",
              "      <td>W</td>\n",
              "      <td>10444</td>\n",
              "      <td>225.0</td>\n",
              "      <td>150.0</td>\n",
              "      <td>mastercard</td>\n",
              "      <td>224.0</td>\n",
              "      <td>...</td>\n",
              "      <td>NaN</td>\n",
              "      <td>NaN</td>\n",
              "      <td>NaN</td>\n",
              "      <td>NaN</td>\n",
              "      <td>NaN</td>\n",
              "      <td>NaN</td>\n",
              "      <td>NaN</td>\n",
              "      <td>NaN</td>\n",
              "      <td>NaN</td>\n",
              "      <td>NaN</td>\n",
              "    </tr>\n",
              "    <tr>\n",
              "      <th>590537</th>\n",
              "      <td>3577537</td>\n",
              "      <td>0</td>\n",
              "      <td>15811079</td>\n",
              "      <td>30.95</td>\n",
              "      <td>W</td>\n",
              "      <td>12037</td>\n",
              "      <td>595.0</td>\n",
              "      <td>150.0</td>\n",
              "      <td>mastercard</td>\n",
              "      <td>224.0</td>\n",
              "      <td>...</td>\n",
              "      <td>NaN</td>\n",
              "      <td>NaN</td>\n",
              "      <td>NaN</td>\n",
              "      <td>NaN</td>\n",
              "      <td>NaN</td>\n",
              "      <td>NaN</td>\n",
              "      <td>NaN</td>\n",
              "      <td>NaN</td>\n",
              "      <td>NaN</td>\n",
              "      <td>NaN</td>\n",
              "    </tr>\n",
              "    <tr>\n",
              "      <th>590538</th>\n",
              "      <td>3577538</td>\n",
              "      <td>0</td>\n",
              "      <td>15811088</td>\n",
              "      <td>117.00</td>\n",
              "      <td>W</td>\n",
              "      <td>7826</td>\n",
              "      <td>481.0</td>\n",
              "      <td>150.0</td>\n",
              "      <td>mastercard</td>\n",
              "      <td>224.0</td>\n",
              "      <td>...</td>\n",
              "      <td>NaN</td>\n",
              "      <td>NaN</td>\n",
              "      <td>NaN</td>\n",
              "      <td>NaN</td>\n",
              "      <td>NaN</td>\n",
              "      <td>NaN</td>\n",
              "      <td>NaN</td>\n",
              "      <td>NaN</td>\n",
              "      <td>NaN</td>\n",
              "      <td>NaN</td>\n",
              "    </tr>\n",
              "    <tr>\n",
              "      <th>590539</th>\n",
              "      <td>3577539</td>\n",
              "      <td>0</td>\n",
              "      <td>15811131</td>\n",
              "      <td>279.95</td>\n",
              "      <td>W</td>\n",
              "      <td>15066</td>\n",
              "      <td>170.0</td>\n",
              "      <td>150.0</td>\n",
              "      <td>mastercard</td>\n",
              "      <td>102.0</td>\n",
              "      <td>...</td>\n",
              "      <td>NaN</td>\n",
              "      <td>NaN</td>\n",
              "      <td>NaN</td>\n",
              "      <td>NaN</td>\n",
              "      <td>NaN</td>\n",
              "      <td>NaN</td>\n",
              "      <td>NaN</td>\n",
              "      <td>NaN</td>\n",
              "      <td>NaN</td>\n",
              "      <td>NaN</td>\n",
              "    </tr>\n",
              "  </tbody>\n",
              "</table>\n",
              "<p>590540 rows × 434 columns</p>\n",
              "</div>"
            ],
            "text/plain": [
              "        TransactionID  isFraud  TransactionDT  TransactionAmt ProductCD  \\\n",
              "0             2987000        0          86400           68.50         W   \n",
              "1             2987001        0          86401           29.00         W   \n",
              "2             2987002        0          86469           59.00         W   \n",
              "3             2987003        0          86499           50.00         W   \n",
              "4             2987004        0          86506           50.00         H   \n",
              "...               ...      ...            ...             ...       ...   \n",
              "590535        3577535        0       15811047           49.00         W   \n",
              "590536        3577536        0       15811049           39.50         W   \n",
              "590537        3577537        0       15811079           30.95         W   \n",
              "590538        3577538        0       15811088          117.00         W   \n",
              "590539        3577539        0       15811131          279.95         W   \n",
              "\n",
              "        card1  card2  card3       card4  card5  ...                id_31  \\\n",
              "0       13926    NaN  150.0    discover  142.0  ...                  NaN   \n",
              "1        2755  404.0  150.0  mastercard  102.0  ...                  NaN   \n",
              "2        4663  490.0  150.0        visa  166.0  ...                  NaN   \n",
              "3       18132  567.0  150.0  mastercard  117.0  ...                  NaN   \n",
              "4        4497  514.0  150.0  mastercard  102.0  ...  samsung browser 6.2   \n",
              "...       ...    ...    ...         ...    ...  ...                  ...   \n",
              "590535   6550    NaN  150.0        visa  226.0  ...                  NaN   \n",
              "590536  10444  225.0  150.0  mastercard  224.0  ...                  NaN   \n",
              "590537  12037  595.0  150.0  mastercard  224.0  ...                  NaN   \n",
              "590538   7826  481.0  150.0  mastercard  224.0  ...                  NaN   \n",
              "590539  15066  170.0  150.0  mastercard  102.0  ...                  NaN   \n",
              "\n",
              "        id_32      id_33           id_34  id_35 id_36 id_37  id_38  \\\n",
              "0         NaN        NaN             NaN    NaN   NaN   NaN    NaN   \n",
              "1         NaN        NaN             NaN    NaN   NaN   NaN    NaN   \n",
              "2         NaN        NaN             NaN    NaN   NaN   NaN    NaN   \n",
              "3         NaN        NaN             NaN    NaN   NaN   NaN    NaN   \n",
              "4        32.0  2220x1080  match_status:2      T     F     T      T   \n",
              "...       ...        ...             ...    ...   ...   ...    ...   \n",
              "590535    NaN        NaN             NaN    NaN   NaN   NaN    NaN   \n",
              "590536    NaN        NaN             NaN    NaN   NaN   NaN    NaN   \n",
              "590537    NaN        NaN             NaN    NaN   NaN   NaN    NaN   \n",
              "590538    NaN        NaN             NaN    NaN   NaN   NaN    NaN   \n",
              "590539    NaN        NaN             NaN    NaN   NaN   NaN    NaN   \n",
              "\n",
              "        DeviceType                     DeviceInfo  \n",
              "0              NaN                            NaN  \n",
              "1              NaN                            NaN  \n",
              "2              NaN                            NaN  \n",
              "3              NaN                            NaN  \n",
              "4           mobile  SAMSUNG SM-G892A Build/NRD90M  \n",
              "...            ...                            ...  \n",
              "590535         NaN                            NaN  \n",
              "590536         NaN                            NaN  \n",
              "590537         NaN                            NaN  \n",
              "590538         NaN                            NaN  \n",
              "590539         NaN                            NaN  \n",
              "\n",
              "[590540 rows x 434 columns]"
            ]
          },
          "metadata": {
            "tags": []
          },
          "execution_count": 6
        }
      ]
    },
    {
      "cell_type": "code",
      "metadata": {
        "id": "xvktDPCg37-6",
        "outputId": "2d1a51bb-7e1d-4554-9d94-1f3c8ab7ab20"
      },
      "source": [
        "df.duplicated().value_counts()\n",
        "# df=df.drop_duplicates()"
      ],
      "execution_count": null,
      "outputs": [
        {
          "output_type": "execute_result",
          "data": {
            "text/plain": [
              "False    590540\n",
              "dtype: int64"
            ]
          },
          "metadata": {
            "tags": []
          },
          "execution_count": 9
        }
      ]
    },
    {
      "cell_type": "code",
      "metadata": {
        "id": "o3LIhTe-37-6",
        "outputId": "162b80c0-4e56-4359-8aa6-888cb1a34916"
      },
      "source": [
        "df.memory_usage(deep=True)"
      ],
      "execution_count": null,
      "outputs": [
        {
          "output_type": "execute_result",
          "data": {
            "text/plain": [
              "Index              4724320\n",
              "TransactionID      4724320\n",
              "isFraud            4724320\n",
              "TransactionDT      4724320\n",
              "TransactionAmt     4724320\n",
              "                    ...   \n",
              "id_36             22562890\n",
              "id_37             22562890\n",
              "id_38             22562890\n",
              "DeviceType        23347555\n",
              "DeviceInfo        23176826\n",
              "Length: 435, dtype: int64"
            ]
          },
          "metadata": {
            "tags": []
          },
          "execution_count": 10
        }
      ]
    },
    {
      "cell_type": "code",
      "metadata": {
        "id": "GwGEeV_L37-6",
        "outputId": "6ee02c89-ec9d-4068-aacb-fda607b41e7b"
      },
      "source": [
        "df.info(memory_usage='deep')"
      ],
      "execution_count": null,
      "outputs": [
        {
          "output_type": "stream",
          "text": [
            "<class 'pandas.core.frame.DataFrame'>\n",
            "Int64Index: 590540 entries, 0 to 590539\n",
            "Columns: 434 entries, TransactionID to DeviceInfo\n",
            "dtypes: float64(399), int64(4), object(31)\n",
            "memory usage: 2.5 GB\n"
          ],
          "name": "stdout"
        }
      ]
    },
    {
      "cell_type": "code",
      "metadata": {
        "id": "Ir7Wvo0r37-7"
      },
      "source": [
        ""
      ],
      "execution_count": null,
      "outputs": []
    },
    {
      "cell_type": "markdown",
      "metadata": {
        "id": "K22reBkbMuHa"
      },
      "source": [
        "### Exploratory Data Analysis"
      ]
    },
    {
      "cell_type": "code",
      "metadata": {
        "id": "tK5qsNxz37-7",
        "outputId": "e8980fc3-db89-4ce4-ef8f-1a846391a655"
      },
      "source": [
        "def summary(df, pred=None):\n",
        "    obs = df.shape[0]\n",
        "    Types = df.dtypes\n",
        "    Counts = df.apply(lambda x: x.count())\n",
        "    Min = df.min()\n",
        "    Max = df.max()\n",
        "    Uniques = df.apply(lambda x: x.unique().shape[0])\n",
        "    Nulls = df.apply(lambda x: x.isnull().sum())\n",
        "    print('Data shape:', df.shape)\n",
        "\n",
        "    if pred is None:\n",
        "        cols = ['Types', 'Counts', 'Uniques', 'Nulls', 'Min', 'Max']\n",
        "        str = pd.concat([Types, Counts, Uniques, Nulls, Min, Max], axis = 1, sort=True)\n",
        "\n",
        "    str.columns = cols\n",
        "    print('___________________________\\nData Types:')\n",
        "    print(str.Types.value_counts())\n",
        "    print('___________________________')\n",
        "    return str\n",
        "\n",
        "display(summary(df).sort_values(by='Nulls', ascending=False))"
      ],
      "execution_count": null,
      "outputs": [
        {
          "output_type": "stream",
          "text": [
            "Data shape: (284807, 31)\n",
            "___________________________\n",
            "Data Types:\n",
            "float64    30\n",
            "int64       1\n",
            "Name: Types, dtype: int64\n",
            "___________________________\n"
          ],
          "name": "stdout"
        },
        {
          "output_type": "display_data",
          "data": {
            "text/html": [
              "<div>\n",
              "<style scoped>\n",
              "    .dataframe tbody tr th:only-of-type {\n",
              "        vertical-align: middle;\n",
              "    }\n",
              "\n",
              "    .dataframe tbody tr th {\n",
              "        vertical-align: top;\n",
              "    }\n",
              "\n",
              "    .dataframe thead th {\n",
              "        text-align: right;\n",
              "    }\n",
              "</style>\n",
              "<table border=\"1\" class=\"dataframe\">\n",
              "  <thead>\n",
              "    <tr style=\"text-align: right;\">\n",
              "      <th></th>\n",
              "      <th>Types</th>\n",
              "      <th>Counts</th>\n",
              "      <th>Uniques</th>\n",
              "      <th>Nulls</th>\n",
              "      <th>Min</th>\n",
              "      <th>Max</th>\n",
              "    </tr>\n",
              "  </thead>\n",
              "  <tbody>\n",
              "    <tr>\n",
              "      <th>Amount</th>\n",
              "      <td>float64</td>\n",
              "      <td>284807</td>\n",
              "      <td>32767</td>\n",
              "      <td>0</td>\n",
              "      <td>0.000000</td>\n",
              "      <td>25691.160000</td>\n",
              "    </tr>\n",
              "    <tr>\n",
              "      <th>V21</th>\n",
              "      <td>float64</td>\n",
              "      <td>284807</td>\n",
              "      <td>275663</td>\n",
              "      <td>0</td>\n",
              "      <td>-34.830382</td>\n",
              "      <td>27.202839</td>\n",
              "    </tr>\n",
              "    <tr>\n",
              "      <th>V8</th>\n",
              "      <td>float64</td>\n",
              "      <td>284807</td>\n",
              "      <td>275663</td>\n",
              "      <td>0</td>\n",
              "      <td>-73.216718</td>\n",
              "      <td>20.007208</td>\n",
              "    </tr>\n",
              "    <tr>\n",
              "      <th>V7</th>\n",
              "      <td>float64</td>\n",
              "      <td>284807</td>\n",
              "      <td>275663</td>\n",
              "      <td>0</td>\n",
              "      <td>-43.557242</td>\n",
              "      <td>120.589494</td>\n",
              "    </tr>\n",
              "    <tr>\n",
              "      <th>V6</th>\n",
              "      <td>float64</td>\n",
              "      <td>284807</td>\n",
              "      <td>275663</td>\n",
              "      <td>0</td>\n",
              "      <td>-26.160506</td>\n",
              "      <td>73.301626</td>\n",
              "    </tr>\n",
              "    <tr>\n",
              "      <th>V5</th>\n",
              "      <td>float64</td>\n",
              "      <td>284807</td>\n",
              "      <td>275663</td>\n",
              "      <td>0</td>\n",
              "      <td>-113.743307</td>\n",
              "      <td>34.801666</td>\n",
              "    </tr>\n",
              "    <tr>\n",
              "      <th>V4</th>\n",
              "      <td>float64</td>\n",
              "      <td>284807</td>\n",
              "      <td>275663</td>\n",
              "      <td>0</td>\n",
              "      <td>-5.683171</td>\n",
              "      <td>16.875344</td>\n",
              "    </tr>\n",
              "    <tr>\n",
              "      <th>V3</th>\n",
              "      <td>float64</td>\n",
              "      <td>284807</td>\n",
              "      <td>275663</td>\n",
              "      <td>0</td>\n",
              "      <td>-48.325589</td>\n",
              "      <td>9.382558</td>\n",
              "    </tr>\n",
              "    <tr>\n",
              "      <th>V28</th>\n",
              "      <td>float64</td>\n",
              "      <td>284807</td>\n",
              "      <td>275663</td>\n",
              "      <td>0</td>\n",
              "      <td>-15.430084</td>\n",
              "      <td>33.847808</td>\n",
              "    </tr>\n",
              "    <tr>\n",
              "      <th>V27</th>\n",
              "      <td>float64</td>\n",
              "      <td>284807</td>\n",
              "      <td>275663</td>\n",
              "      <td>0</td>\n",
              "      <td>-22.565679</td>\n",
              "      <td>31.612198</td>\n",
              "    </tr>\n",
              "    <tr>\n",
              "      <th>V26</th>\n",
              "      <td>float64</td>\n",
              "      <td>284807</td>\n",
              "      <td>275663</td>\n",
              "      <td>0</td>\n",
              "      <td>-2.604551</td>\n",
              "      <td>3.517346</td>\n",
              "    </tr>\n",
              "    <tr>\n",
              "      <th>V25</th>\n",
              "      <td>float64</td>\n",
              "      <td>284807</td>\n",
              "      <td>275663</td>\n",
              "      <td>0</td>\n",
              "      <td>-10.295397</td>\n",
              "      <td>7.519589</td>\n",
              "    </tr>\n",
              "    <tr>\n",
              "      <th>V24</th>\n",
              "      <td>float64</td>\n",
              "      <td>284807</td>\n",
              "      <td>275663</td>\n",
              "      <td>0</td>\n",
              "      <td>-2.836627</td>\n",
              "      <td>4.584549</td>\n",
              "    </tr>\n",
              "    <tr>\n",
              "      <th>V23</th>\n",
              "      <td>float64</td>\n",
              "      <td>284807</td>\n",
              "      <td>275663</td>\n",
              "      <td>0</td>\n",
              "      <td>-44.807735</td>\n",
              "      <td>22.528412</td>\n",
              "    </tr>\n",
              "    <tr>\n",
              "      <th>V22</th>\n",
              "      <td>float64</td>\n",
              "      <td>284807</td>\n",
              "      <td>275663</td>\n",
              "      <td>0</td>\n",
              "      <td>-10.933144</td>\n",
              "      <td>10.503090</td>\n",
              "    </tr>\n",
              "    <tr>\n",
              "      <th>V20</th>\n",
              "      <td>float64</td>\n",
              "      <td>284807</td>\n",
              "      <td>275663</td>\n",
              "      <td>0</td>\n",
              "      <td>-54.497720</td>\n",
              "      <td>39.420904</td>\n",
              "    </tr>\n",
              "    <tr>\n",
              "      <th>Class</th>\n",
              "      <td>int64</td>\n",
              "      <td>284807</td>\n",
              "      <td>2</td>\n",
              "      <td>0</td>\n",
              "      <td>0.000000</td>\n",
              "      <td>1.000000</td>\n",
              "    </tr>\n",
              "    <tr>\n",
              "      <th>V2</th>\n",
              "      <td>float64</td>\n",
              "      <td>284807</td>\n",
              "      <td>275663</td>\n",
              "      <td>0</td>\n",
              "      <td>-72.715728</td>\n",
              "      <td>22.057729</td>\n",
              "    </tr>\n",
              "    <tr>\n",
              "      <th>V19</th>\n",
              "      <td>float64</td>\n",
              "      <td>284807</td>\n",
              "      <td>275663</td>\n",
              "      <td>0</td>\n",
              "      <td>-7.213527</td>\n",
              "      <td>5.591971</td>\n",
              "    </tr>\n",
              "    <tr>\n",
              "      <th>V18</th>\n",
              "      <td>float64</td>\n",
              "      <td>284807</td>\n",
              "      <td>275663</td>\n",
              "      <td>0</td>\n",
              "      <td>-9.498746</td>\n",
              "      <td>5.041069</td>\n",
              "    </tr>\n",
              "    <tr>\n",
              "      <th>V17</th>\n",
              "      <td>float64</td>\n",
              "      <td>284807</td>\n",
              "      <td>275663</td>\n",
              "      <td>0</td>\n",
              "      <td>-25.162799</td>\n",
              "      <td>9.253526</td>\n",
              "    </tr>\n",
              "    <tr>\n",
              "      <th>V16</th>\n",
              "      <td>float64</td>\n",
              "      <td>284807</td>\n",
              "      <td>275663</td>\n",
              "      <td>0</td>\n",
              "      <td>-14.129855</td>\n",
              "      <td>17.315112</td>\n",
              "    </tr>\n",
              "    <tr>\n",
              "      <th>V15</th>\n",
              "      <td>float64</td>\n",
              "      <td>284807</td>\n",
              "      <td>275663</td>\n",
              "      <td>0</td>\n",
              "      <td>-4.498945</td>\n",
              "      <td>8.877742</td>\n",
              "    </tr>\n",
              "    <tr>\n",
              "      <th>V14</th>\n",
              "      <td>float64</td>\n",
              "      <td>284807</td>\n",
              "      <td>275663</td>\n",
              "      <td>0</td>\n",
              "      <td>-19.214325</td>\n",
              "      <td>10.526766</td>\n",
              "    </tr>\n",
              "    <tr>\n",
              "      <th>V13</th>\n",
              "      <td>float64</td>\n",
              "      <td>284807</td>\n",
              "      <td>275663</td>\n",
              "      <td>0</td>\n",
              "      <td>-5.791881</td>\n",
              "      <td>7.126883</td>\n",
              "    </tr>\n",
              "    <tr>\n",
              "      <th>V12</th>\n",
              "      <td>float64</td>\n",
              "      <td>284807</td>\n",
              "      <td>275663</td>\n",
              "      <td>0</td>\n",
              "      <td>-18.683715</td>\n",
              "      <td>7.848392</td>\n",
              "    </tr>\n",
              "    <tr>\n",
              "      <th>V11</th>\n",
              "      <td>float64</td>\n",
              "      <td>284807</td>\n",
              "      <td>275663</td>\n",
              "      <td>0</td>\n",
              "      <td>-4.797473</td>\n",
              "      <td>12.018913</td>\n",
              "    </tr>\n",
              "    <tr>\n",
              "      <th>V10</th>\n",
              "      <td>float64</td>\n",
              "      <td>284807</td>\n",
              "      <td>275663</td>\n",
              "      <td>0</td>\n",
              "      <td>-24.588262</td>\n",
              "      <td>23.745136</td>\n",
              "    </tr>\n",
              "    <tr>\n",
              "      <th>V1</th>\n",
              "      <td>float64</td>\n",
              "      <td>284807</td>\n",
              "      <td>275663</td>\n",
              "      <td>0</td>\n",
              "      <td>-56.407510</td>\n",
              "      <td>2.454930</td>\n",
              "    </tr>\n",
              "    <tr>\n",
              "      <th>Time</th>\n",
              "      <td>float64</td>\n",
              "      <td>284807</td>\n",
              "      <td>124592</td>\n",
              "      <td>0</td>\n",
              "      <td>0.000000</td>\n",
              "      <td>172792.000000</td>\n",
              "    </tr>\n",
              "    <tr>\n",
              "      <th>V9</th>\n",
              "      <td>float64</td>\n",
              "      <td>284807</td>\n",
              "      <td>275663</td>\n",
              "      <td>0</td>\n",
              "      <td>-13.434066</td>\n",
              "      <td>15.594995</td>\n",
              "    </tr>\n",
              "  </tbody>\n",
              "</table>\n",
              "</div>"
            ],
            "text/plain": [
              "          Types  Counts  Uniques  Nulls         Min            Max\n",
              "Amount  float64  284807    32767      0    0.000000   25691.160000\n",
              "V21     float64  284807   275663      0  -34.830382      27.202839\n",
              "V8      float64  284807   275663      0  -73.216718      20.007208\n",
              "V7      float64  284807   275663      0  -43.557242     120.589494\n",
              "V6      float64  284807   275663      0  -26.160506      73.301626\n",
              "V5      float64  284807   275663      0 -113.743307      34.801666\n",
              "V4      float64  284807   275663      0   -5.683171      16.875344\n",
              "V3      float64  284807   275663      0  -48.325589       9.382558\n",
              "V28     float64  284807   275663      0  -15.430084      33.847808\n",
              "V27     float64  284807   275663      0  -22.565679      31.612198\n",
              "V26     float64  284807   275663      0   -2.604551       3.517346\n",
              "V25     float64  284807   275663      0  -10.295397       7.519589\n",
              "V24     float64  284807   275663      0   -2.836627       4.584549\n",
              "V23     float64  284807   275663      0  -44.807735      22.528412\n",
              "V22     float64  284807   275663      0  -10.933144      10.503090\n",
              "V20     float64  284807   275663      0  -54.497720      39.420904\n",
              "Class     int64  284807        2      0    0.000000       1.000000\n",
              "V2      float64  284807   275663      0  -72.715728      22.057729\n",
              "V19     float64  284807   275663      0   -7.213527       5.591971\n",
              "V18     float64  284807   275663      0   -9.498746       5.041069\n",
              "V17     float64  284807   275663      0  -25.162799       9.253526\n",
              "V16     float64  284807   275663      0  -14.129855      17.315112\n",
              "V15     float64  284807   275663      0   -4.498945       8.877742\n",
              "V14     float64  284807   275663      0  -19.214325      10.526766\n",
              "V13     float64  284807   275663      0   -5.791881       7.126883\n",
              "V12     float64  284807   275663      0  -18.683715       7.848392\n",
              "V11     float64  284807   275663      0   -4.797473      12.018913\n",
              "V10     float64  284807   275663      0  -24.588262      23.745136\n",
              "V1      float64  284807   275663      0  -56.407510       2.454930\n",
              "Time    float64  284807   124592      0    0.000000  172792.000000\n",
              "V9      float64  284807   275663      0  -13.434066      15.594995"
            ]
          },
          "metadata": {
            "tags": []
          }
        }
      ]
    },
    {
      "cell_type": "code",
      "metadata": {
        "id": "YeDK8lne37-8",
        "outputId": "cc705072-754a-4555-e804-e8ac00d4d693"
      },
      "source": [
        "print('The number of Non-Frauds are: ' \n",
        "      + str(df['Class'].value_counts()[0]) \n",
        "      + ' which is ', round(df['Class'].value_counts()[0]/len(df) * 100,2), \n",
        "      '% of the dataset')\n",
        "\n",
        "print('The number of Frauds are: ' \n",
        "      + str(df['Class'].value_counts()[1]) \n",
        "      + ' which is ', round(df['Class'].value_counts()[1]/len(df) * 100,2), \n",
        "      '% of the dataset')\n"
      ],
      "execution_count": null,
      "outputs": [
        {
          "output_type": "stream",
          "text": [
            "The number of Non-Frauds are: 284315 which is  99.83 % of the dataset\n",
            "The number of Frauds are: 492 which is  0.17 % of the dataset\n"
          ],
          "name": "stdout"
        }
      ]
    },
    {
      "cell_type": "markdown",
      "metadata": {
        "id": "8U_-emi_37-8"
      },
      "source": [
        "* Extremely unbalanced data"
      ]
    },
    {
      "cell_type": "code",
      "metadata": {
        "id": "cQx1wpM637-8",
        "outputId": "a91773e5-daec-4981-8339-02329f59e60f"
      },
      "source": [
        "frauds = df[df.Class == 1]\n",
        "normal = df[df.Class == 0]\n",
        "f, (ax1, ax2) = plt.subplots(2, 1, sharex=True, figsize=(15,8))\n",
        "f.suptitle('Amount per transaction by class')\n",
        "\n",
        "bins = 50\n",
        "\n",
        "ax1.hist(frauds.Amount, bins = bins)\n",
        "ax1.set_title('Fraud')\n",
        "\n",
        "ax2.hist(normal.Amount, bins = bins)\n",
        "ax2.set_title('Normal')\n",
        "\n",
        "plt.xlabel('Amount ($)')\n",
        "plt.ylabel('Number of Transactions')\n",
        "plt.xlim((0, 10000))\n",
        "plt.yscale('log')\n",
        "plt.show();"
      ],
      "execution_count": null,
      "outputs": [
        {
          "output_type": "display_data",
          "data": {
            "image/png": "[encoded data removed]",
            "text/plain": [
              "<Figure size 1080x576 with 2 Axes>"
            ]
          },
          "metadata": {
            "tags": [],
            "needs_background": "light"
          }
        }
      ]
    },
    {
      "cell_type": "code",
      "metadata": {
        "id": "J0hRW0J_37-9",
        "outputId": "0964e49a-06f9-4162-ef66-ab7cd5246baa"
      },
      "source": [
        "f, (ax1, ax2) = plt.subplots(2, 1, sharex=True, figsize=(15,8))\n",
        "f.suptitle('Time of transaction vs Amount by class')\n",
        "\n",
        "ax1.scatter(frauds.Time, frauds.Amount)\n",
        "ax1.set_title('Fraud')\n",
        "\n",
        "ax2.scatter(normal.Time, normal.Amount)\n",
        "ax2.set_title('Normal')\n",
        "\n",
        "plt.xlabel('Time (in Seconds)')\n",
        "plt.ylabel('Amount')\n",
        "plt.show()"
      ],
      "execution_count": null,
      "outputs": [
        {
          "output_type": "display_data",
          "data": {
            "image/png": "[encoded data removed]",
            "text/plain": [
              "<Figure size 1080x576 with 2 Axes>"
            ]
          },
          "metadata": {
            "tags": [],
            "needs_background": "light"
          }
        }
      ]
    },
    {
      "cell_type": "code",
      "metadata": {
        "id": "sg4dFUxO37--",
        "outputId": "fc0d03ca-5e5d-4c16-9265-16e2946ca0bb"
      },
      "source": [
        "# Sample figsize in inches\n",
        "fig, ax = plt.subplots(figsize=(20,10))         \n",
        "\n",
        "# Imbalanced DataFrame Correlation\n",
        "corr = df.corr()\n",
        "sns.heatmap(corr, cmap='YlGnBu', annot_kws={'size':30}, ax=ax)\n",
        "ax.set_title(\"Imbalanced Correlation Matrix\", fontsize=14)\n",
        "\n",
        "plt.show()"
      ],
      "execution_count": null,
      "outputs": [
        {
          "output_type": "display_data",
          "data": {
            "image/png": "[encoded data removed]",
            "text/plain": [
              "<Figure size 1440x720 with 2 Axes>"
            ]
          },
          "metadata": {
            "tags": [],
            "needs_background": "light"
          }
        }
      ]
    },
    {
      "cell_type": "markdown",
      "metadata": {
        "id": "NGyEoz9fJQ0E"
      },
      "source": [
        "### Data Cleaning\n",
        "Check Missing Values and Outliers"
      ]
    },
    {
      "cell_type": "code",
      "metadata": {
        "scrolled": false,
        "id": "fKSlsWwu37--",
        "outputId": "9fdae5af-99e5-49d2-c6ca-2df873646e18"
      },
      "source": [
        "def boxplotit(data, x=3, y=3, drops=[], plotsize = (21,14)):\n",
        "    fig, axes = plt.subplots(nrows = x, ncols = y, figsize = (25,30))\n",
        "    row=0\n",
        "    col=0\n",
        "    for column in df.drop(drops,axis=1).columns:\n",
        "        sns.boxplot(drops[0],column, data = df, ax=axes[row,col])\n",
        "        if col != y-1:\n",
        "            col += 1\n",
        "        else:\n",
        "            row += 1\n",
        "            col = 0\n",
        "\n",
        "boxplotit(df,6,5,['Class'])"
      ],
      "execution_count": null,
      "outputs": [
        {
          "output_type": "display_data",
          "data": {
            "image/png": "[encoded data removed]",
            "text/plain": [
              "<Figure size 1800x2160 with 30 Axes>"
            ]
          },
          "metadata": {
            "tags": [],
            "needs_background": "light"
          }
        }
      ]
    },
    {
      "cell_type": "markdown",
      "metadata": {
        "id": "tMOO7g-sMuHb"
      },
      "source": [
        "---\n",
        "---\n"
      ]
    },
    {
      "cell_type": "markdown",
      "metadata": {
        "id": "Yf6VvH6WMuHb"
      },
      "source": [
        "## 2. Data Preprocessing"
      ]
    },
    {
      "cell_type": "markdown",
      "metadata": {
        "id": "OV28RJBeMuHb"
      },
      "source": [
        "#### Scaling"
      ]
    },
    {
      "cell_type": "code",
      "metadata": {
        "id": "nbFlQm-z37-_"
      },
      "source": [
        "# RobustScaler is robust to outliers.\n",
        "from sklearn.preprocessing import RobustScaler"
      ],
      "execution_count": null,
      "outputs": []
    },
    {
      "cell_type": "code",
      "metadata": {
        "id": "3-QFMSgg37-_"
      },
      "source": [
        "# Since most of our data has already been scaled we should scale the columns that are left to scale (Amount and Time)\n",
        "scale_columns= ['Time', 'Amount']\n",
        "\n",
        "scaler = RobustScaler().fit(df[scale_columns])\n",
        "df[scale_columns] = scaler.transform(df[scale_columns])"
      ],
      "execution_count": null,
      "outputs": []
    },
    {
      "cell_type": "code",
      "metadata": {
        "id": "9LI_U7E337-_"
      },
      "source": [
        "X = df.drop('Class',axis=1)\n",
        "y = df['Class']"
      ],
      "execution_count": null,
      "outputs": []
    },
    {
      "cell_type": "markdown",
      "metadata": {
        "id": "hlm6gCsKMuHb"
      },
      "source": [
        "#### Train - Test Split\n",
        "\n",
        "As in this case, for extremely imbalanced datasets you may want to make sure that classes are balanced across train and test data."
      ]
    },
    {
      "cell_type": "code",
      "metadata": {
        "id": "AuzpxEmKMuHb"
      },
      "source": [
        "from sklearn.model_selection import train_test_split\n",
        "from imblearn.over_sampling import SMOTE, ADASYN\n",
        "\n",
        "X_train, X_test, y_train, y_test = train_test_split(X, y, test_size = 0.33, random_state=42)"
      ],
      "execution_count": null,
      "outputs": []
    },
    {
      "cell_type": "code",
      "metadata": {
        "id": "GEBQOqVU37_A",
        "outputId": "e558279a-dc79-4108-b18f-618ce817ac36"
      },
      "source": [
        "print(f\"\"\"Train and Test Sizes:\n",
        "(X_train, y_train)\\t:({len(X_train)}, {len(y_train)})\n",
        "(X_test, y_test)\\t:({len(X_test)}, {len(y_test)})\"\"\")\n",
        "\n",
        "print(f\"\"\"\\nTotal number of frauds\\t: {len(y.loc[df['Class'] == 1])}\n",
        "Percentage of frauds\\t: %{round(len(y.loc[df['Class'] == 1])/len(y)*100,2)}\"\"\")\n",
        "\n",
        "print(f\"\"\"\\nNumber of frauds on y_test\\t: {len(y_test.loc[df['Class'] == 1])}\n",
        "Percentage of frauds on y_test\\t: %{round(len(y_test.loc[df['Class'] == 1]) / len(y_test)*100,2)}\"\"\")\n",
        "\n",
        "print(f\"\"\"\\nNumber of frauds on y_train\\t: {len(y_train.loc[df['Class'] == 1])}\n",
        "Percentage of frauds on y_train\\t: %{round(len(y_train.loc[df['Class'] == 1]) / len(y_train)*100,2)}\"\"\")"
      ],
      "execution_count": null,
      "outputs": [
        {
          "output_type": "stream",
          "text": [
            "Train and Test Sizes:\n",
            "(X_train, y_train)\t:(190820, 190820)\n",
            "(X_test, y_test)\t:(93987, 93987)\n",
            "\n",
            "Total number of frauds\t: 492\n",
            "Percentage of frauds\t: %0.17\n",
            "\n",
            "Number of frauds on y_test\t: 149\n",
            "Percentage of frauds on y_test\t: %0.16\n",
            "\n",
            "Number of frauds on y_train\t: 343\n",
            "Percentage of frauds on y_train\t: %0.18\n"
          ],
          "name": "stdout"
        }
      ]
    },
    {
      "cell_type": "markdown",
      "metadata": {
        "id": "HO4HAIofMuHc"
      },
      "source": [
        "---\n",
        "---\n"
      ]
    },
    {
      "cell_type": "markdown",
      "metadata": {
        "id": "MwQdl4PdJQ0I"
      },
      "source": [
        "## 3. Model Building\n",
        "It was previously stated that you need to make class prediction with three different algorithms. As in this case, different approaches are required to obtain better performance on unbalanced data.\n",
        "\n",
        "This dataset is severely **unbalanced** (most of the transactions are non-fraud). So the algorithms are much more likely to classify new observations to the majority class and high accuracy won't tell us anything. To address the problem of imbalanced dataset we can use undersampling and oversampling data approach techniques. Oversampling increases the number of minority class members in the training set. The advantage of oversampling is that no information from the original training set is lost unlike in undersampling, as all observations from the minority and majority classes are kept. On the other hand, it is prone to overfitting. \n",
        "\n",
        "There is a type of oversampling called **[SMOTE](https://www.geeksforgeeks.org/ml-handling-imbalanced-data-with-smote-and-near-miss-algorithm-in-python/)** (Synthetic Minority Oversampling Technique), which we are going to use to make our dataset balanced. It creates synthetic points from the minority class.\n",
        "\n",
        "- It is important that you can evaluate the effectiveness of SMOTE. For this reason, implement the Logistic Regression algorithm in two different ways, with SMOTE applied and without.\n",
        "\n",
        "***Note***: \n",
        "\n",
        "- *Do not forget to import the necessary libraries and modules before starting the model building!*\n",
        "\n",
        "- *If you are going to use the cross validation method to be more sure of the performance of your model for unbalanced data, you should make sure that the class distributions in the iterations are equal. For this case, you should use **[StratifiedKFold](https://www.analyseup.com/python-machine-learning/stratified-kfold.html)** instead of regular cross validation method.*"
      ]
    },
    {
      "cell_type": "markdown",
      "metadata": {
        "id": "zKZcwgucJQ0I"
      },
      "source": [
        "### Logistic Regression without SMOTE\n",
        "\n",
        "- The steps you are going to cover for this algorithm are as follows: \n",
        "\n",
        "   i. Import Libraries\n",
        "   \n",
        "   *ii. Model Training*\n",
        "   \n",
        "   *iii. Prediction and Model Evaluating*\n",
        "   \n",
        "   *iv. Plot Precision and Recall Curve*\n",
        "   \n",
        "   *v. Apply and Plot StratifiedKFold*"
      ]
    },
    {
      "cell_type": "markdown",
      "metadata": {
        "id": "o48s5BCdMuHd"
      },
      "source": [
        "***i. Import Libraries***"
      ]
    },
    {
      "cell_type": "code",
      "metadata": {
        "id": "3G3cx-UjMuHd"
      },
      "source": [
        "from time import time\n",
        "import matplotlib.pyplot as plt\n",
        "\n",
        "from sklearn.cluster import KMeans\n",
        "from sklearn.datasets import load_digits\n",
        "from sklearn.decomposition import PCA\n",
        "from sklearn.model_selection import train_test_split, StratifiedKFold\n",
        "from sklearn.preprocessing import StandardScaler, scale\n",
        "from sklearn.metrics import confusion_matrix, accuracy_score, mean_squared_error, r2_score, roc_auc_score, roc_curve, classification_report\n",
        "from sklearn.metrics import mean_squared_error, mean_absolute_error, r2_score, f1_score, recall_score\n",
        "from sklearn.linear_model import LogisticRegression\n",
        "import warnings\n",
        "warnings.filterwarnings(\"ignore\") "
      ],
      "execution_count": null,
      "outputs": []
    },
    {
      "cell_type": "markdown",
      "metadata": {
        "id": "6KD76bc5MuHd"
      },
      "source": [
        "***ii. Model Training and Prediction***"
      ]
    },
    {
      "cell_type": "code",
      "metadata": {
        "id": "qIpm8hdN37_B"
      },
      "source": [
        "model = LogisticRegression().fit(X_train, y_train)\n",
        "y_pred=model.predict(X_test)"
      ],
      "execution_count": null,
      "outputs": []
    },
    {
      "cell_type": "markdown",
      "metadata": {
        "id": "uvKAJVTNMuHd"
      },
      "source": [
        "***iii.Model Evaluating***"
      ]
    },
    {
      "cell_type": "code",
      "metadata": {
        "id": "Kb68hH1TMuHd",
        "outputId": "7f698088-f29b-493d-f673-b6417e3cb4f4"
      },
      "source": [
        "print('Confusion Matrix:',*confusion_matrix(y_test,y_pred), sep=\"\\n\")\n",
        "print(classification_report(y_test, y_pred))"
      ],
      "execution_count": null,
      "outputs": [
        {
          "output_type": "stream",
          "text": [
            "Confusion Matrix:\n",
            "[93824    14]\n",
            "[54 95]\n",
            "              precision    recall  f1-score   support\n",
            "\n",
            "           0       1.00      1.00      1.00     93838\n",
            "           1       0.87      0.64      0.74       149\n",
            "\n",
            "    accuracy                           1.00     93987\n",
            "   macro avg       0.94      0.82      0.87     93987\n",
            "weighted avg       1.00      1.00      1.00     93987\n",
            "\n"
          ],
          "name": "stdout"
        }
      ]
    },
    {
      "cell_type": "code",
      "metadata": {
        "id": "Qwz-lZLJ37_C",
        "outputId": "b0b682f6-a303-40e6-d786-f416e3d63f95"
      },
      "source": [
        "from sklearn.metrics import plot_confusion_matrix\n",
        "plot_confusion_matrix(model,X_test,y_test);"
      ],
      "execution_count": null,
      "outputs": [
        {
          "output_type": "display_data",
          "data": {
            "image/png": "[encoded data removed]",
            "text/plain": [
              "<Figure size 432x288 with 2 Axes>"
            ]
          },
          "metadata": {
            "tags": [],
            "needs_background": "light"
          }
        }
      ]
    },
    {
      "cell_type": "code",
      "metadata": {
        "id": "NURftSHx37_C",
        "outputId": "47c4cecd-e211-49cb-edb1-d8742b646649"
      },
      "source": [
        "# Alternative\n",
        "sns.heatmap(confusion_matrix(y_test,y_pred), annot=True, cmap=\"YlGnBu\",fmt='d')\n",
        "plt.ylabel('Actual Label')\n",
        "plt.xlabel('Predicted Label');"
      ],
      "execution_count": null,
      "outputs": [
        {
          "output_type": "display_data",
          "data": {
            "image/png": "[encoded data removed]",
            "text/plain": [
              "<Figure size 432x288 with 2 Axes>"
            ]
          },
          "metadata": {
            "tags": [],
            "needs_background": "light"
          }
        }
      ]
    },
    {
      "cell_type": "code",
      "metadata": {
        "id": "C3u-uRMW37_C",
        "outputId": "58972bbc-9eb2-4003-b7f0-d1c893ed73f6"
      },
      "source": [
        "log_accuracy = accuracy_score(y_test, y_pred)\n",
        "log_f1_score = f1_score(y_test, y_pred, average='weighted')\n",
        "log_recall = recall_score(y_test, y_pred, average='weighted')\n",
        "print('log_accuracy:',log_accuracy,\n",
        "      '\\nlog_f1_score:',log_f1_score,\n",
        "      '\\nlog_recall:',log_recall)"
      ],
      "execution_count": null,
      "outputs": [
        {
          "output_type": "stream",
          "text": [
            "log_accuracy: 0.9992764956855735 \n",
            "log_f1_score: 0.9992204871647957 \n",
            "log_recall: 0.9992764956855735\n"
          ],
          "name": "stdout"
        }
      ]
    },
    {
      "cell_type": "markdown",
      "metadata": {
        "id": "l193OP5fMuHd"
      },
      "source": [
        "\n",
        "You're evaluating \"accuracy score\"? Is your performance metric reflect real success? You may need to use different metrics to evaluate performance on unbalanced data. You should use **[precision and recall metrics](https://scikit-learn.org/stable/auto_examples/model_selection/plot_precision_recall.html#:~:text=The%20precision%2Drecall%20curve%20shows,a%20low%20false%20negative%20rate.)**."
      ]
    },
    {
      "cell_type": "markdown",
      "metadata": {
        "id": "QNwSxiCq37_C"
      },
      "source": [
        "* Accuracy score doesnt reflect the real success. Because the dataset is extremely unbalanced. We have to focus on precision, recall and F1 score of \"fraud is True\"."
      ]
    },
    {
      "cell_type": "markdown",
      "metadata": {
        "id": "fUDt5voIMuHe"
      },
      "source": [
        "***iv. Plot Precision and Recall Curve***\n"
      ]
    },
    {
      "cell_type": "markdown",
      "metadata": {
        "id": "fxgqXMM637_D"
      },
      "source": [
        "![a-Example-of-Precision-Recall-curve-with-the-precision-score-on-the-y-axis-and-the.png](attachment:a-Example-of-Precision-Recall-curve-with-the-precision-score-on-the-y-axis-and-the.png)"
      ]
    },
    {
      "cell_type": "code",
      "metadata": {
        "id": "CFkYt9Ln37_D"
      },
      "source": [
        "from sklearn.metrics import precision_recall_curve, plot_precision_recall_curve, average_precision_score"
      ],
      "execution_count": null,
      "outputs": []
    },
    {
      "cell_type": "code",
      "metadata": {
        "id": "PceKkJKO37_D",
        "outputId": "4c22f8ff-3fca-4e7d-f4e4-8cc2813d7430"
      },
      "source": [
        "average_precision = average_precision_score(y_test, y_pred)\n",
        "\n",
        "print('Average precision-recall score: {0:0.2f}'.format(average_precision))"
      ],
      "execution_count": null,
      "outputs": [
        {
          "output_type": "stream",
          "text": [
            "Average precision-recall score: 0.56\n"
          ],
          "name": "stdout"
        }
      ]
    },
    {
      "cell_type": "code",
      "metadata": {
        "scrolled": true,
        "id": "ZAmy4Fmp37_D",
        "outputId": "a55d716e-ad35-4811-e8f3-82917a2923a2"
      },
      "source": [
        "disp = plot_precision_recall_curve(model, X_test, y_test)\n",
        "disp.ax_.set_title('2-class Precision-Recall curve: ''AP={0:0.2f}'.format(average_precision));"
      ],
      "execution_count": null,
      "outputs": [
        {
          "output_type": "display_data",
          "data": {
            "image/png": "[encoded data removed]",
            "text/plain": [
              "<Figure size 432x288 with 1 Axes>"
            ]
          },
          "metadata": {
            "tags": [],
            "needs_background": "light"
          }
        }
      ]
    },
    {
      "cell_type": "markdown",
      "metadata": {
        "id": "yAv-WLN137_D"
      },
      "source": [
        "AP: her bir eşikte elde edilen precision larin ağırlıklı ortalaması"
      ]
    },
    {
      "cell_type": "markdown",
      "metadata": {
        "id": "CAzArHfTMuHe"
      },
      "source": [
        "***v. Apply and Plot StratifiedKFold***"
      ]
    },
    {
      "cell_type": "code",
      "metadata": {
        "id": "8ugUuOhhMuHe"
      },
      "source": [
        "skf = StratifiedKFold(n_splits=5)"
      ],
      "execution_count": null,
      "outputs": []
    },
    {
      "cell_type": "code",
      "metadata": {
        "id": "xfnRBKPz37_E",
        "outputId": "eefb3f6a-8ce0-4181-bcda-6c3975528645"
      },
      "source": [
        "fold_no = 1\n",
        "for train_index, test_index in skf.split(df, y):\n",
        "    train = df.loc[train_index,:]\n",
        "    test = df.loc[test_index,:]\n",
        "    print('Fold',str(fold_no),'Class Ratio:',sum(test['Class'])/len(test['Class']))\n",
        "    fold_no += 1"
      ],
      "execution_count": null,
      "outputs": [
        {
          "output_type": "stream",
          "text": [
            "Fold 1 Class Ratio: 0.0017380007724447878\n",
            "Fold 2 Class Ratio: 0.0017380007724447878\n",
            "Fold 3 Class Ratio: 0.0017204754130018785\n",
            "Fold 4 Class Ratio: 0.0017204754130018785\n",
            "Fold 5 Class Ratio: 0.0017204754130018785\n"
          ],
          "name": "stdout"
        }
      ]
    },
    {
      "cell_type": "markdown",
      "metadata": {
        "id": "bwELs8xsJQ0Q"
      },
      "source": [
        "- Didn't the performance of the model you implemented above satisfy you? If your model is biased towards the majority class and minority class recall is not sufficient, apply **SMOTE**."
      ]
    },
    {
      "cell_type": "markdown",
      "metadata": {
        "id": "4f8q5y12MuHe"
      },
      "source": [
        "### Apply SMOTE"
      ]
    },
    {
      "cell_type": "code",
      "metadata": {
        "id": "rlz070TfMuHf"
      },
      "source": [
        ""
      ],
      "execution_count": null,
      "outputs": []
    },
    {
      "cell_type": "markdown",
      "metadata": {
        "id": "9wvBCEvpJQ0U"
      },
      "source": [
        "### Logistic Regression with SMOTE\n",
        "\n",
        "- The steps you are going to cover for this algorithm are as follows:\n",
        "   \n",
        "   *i. Train-Test Split (Again)*\n",
        "   \n",
        "   *ii. Model Training*\n",
        "   \n",
        "   *iii. Prediction and Model Evaluating*\n",
        "   \n",
        "   *iv. Plot Precision and Recall Curve*\n",
        "   \n",
        "   *v. Apply and Plot StratifiedKFold*"
      ]
    },
    {
      "cell_type": "markdown",
      "metadata": {
        "id": "IJqXQ_aHMuHf"
      },
      "source": [
        "***i. Train-Test Split (Again)***\n",
        "\n",
        "Use SMOTE applied data."
      ]
    },
    {
      "cell_type": "code",
      "metadata": {
        "id": "Qmc3bUHKMuHf"
      },
      "source": [
        ""
      ],
      "execution_count": null,
      "outputs": []
    },
    {
      "cell_type": "markdown",
      "metadata": {
        "id": "evc6DLPcMuHf"
      },
      "source": [
        "***ii. Model Training***"
      ]
    },
    {
      "cell_type": "code",
      "metadata": {
        "id": "hz36IA3EMuHf"
      },
      "source": [
        ""
      ],
      "execution_count": null,
      "outputs": []
    },
    {
      "cell_type": "markdown",
      "metadata": {
        "id": "kqJHSV5FMuHf"
      },
      "source": [
        "***iii. Prediction and Model Evaluating***"
      ]
    },
    {
      "cell_type": "code",
      "metadata": {
        "id": "J_lxSdHyMuHg"
      },
      "source": [
        ""
      ],
      "execution_count": null,
      "outputs": []
    },
    {
      "cell_type": "markdown",
      "metadata": {
        "id": "AFGgLGBqMuHg"
      },
      "source": [
        "***iv.  Plot Precision and Recall Curve***\n"
      ]
    },
    {
      "cell_type": "code",
      "metadata": {
        "id": "CWdU7r-UMuHg"
      },
      "source": [
        ""
      ],
      "execution_count": null,
      "outputs": []
    },
    {
      "cell_type": "markdown",
      "metadata": {
        "id": "HELeR2YVMuHg"
      },
      "source": [
        "***v. Apply and Plot StratifiedKFold***"
      ]
    },
    {
      "cell_type": "code",
      "metadata": {
        "id": "hcmB-zKsMuHg"
      },
      "source": [
        ""
      ],
      "execution_count": null,
      "outputs": []
    },
    {
      "cell_type": "markdown",
      "metadata": {
        "id": "_3zm70O7JQ0Z"
      },
      "source": [
        "### Random Forest Classifier with SMOTE\n",
        "\n",
        "- The steps you are going to cover for this algorithm are as follows:\n",
        "\n",
        "   *i. Model Training*\n",
        "   \n",
        "   *ii. Prediction and Model Evaluating*\n",
        "   \n",
        "   *iii. Plot Precision and Recall Curve*\n",
        "   \n",
        "   *iv. Apply and Plot StratifiedKFold*\n",
        "   "
      ]
    },
    {
      "cell_type": "markdown",
      "metadata": {
        "id": "sr5U80HbMuHg"
      },
      "source": [
        "***i. Model Training***"
      ]
    },
    {
      "cell_type": "code",
      "metadata": {
        "id": "kuvRr7f3MuHh"
      },
      "source": [
        ""
      ],
      "execution_count": null,
      "outputs": []
    },
    {
      "cell_type": "markdown",
      "metadata": {
        "id": "dJ9TJdpmMuHh"
      },
      "source": [
        "***ii. Prediction and Model Evaluating***"
      ]
    },
    {
      "cell_type": "code",
      "metadata": {
        "id": "BaNd2jTRMuHh"
      },
      "source": [
        ""
      ],
      "execution_count": null,
      "outputs": []
    },
    {
      "cell_type": "markdown",
      "metadata": {
        "id": "8bdqEhrdMuHh"
      },
      "source": [
        "***iii. Plot Precision and Recall Curve***\n"
      ]
    },
    {
      "cell_type": "code",
      "metadata": {
        "id": "smne1OBWMuHh"
      },
      "source": [
        ""
      ],
      "execution_count": null,
      "outputs": []
    },
    {
      "cell_type": "markdown",
      "metadata": {
        "id": "1n8q3JXcMuHh"
      },
      "source": [
        "***iv. Apply and Plot StratifiedKFold***"
      ]
    },
    {
      "cell_type": "code",
      "metadata": {
        "id": "WukW9Gb3MuHh"
      },
      "source": [
        ""
      ],
      "execution_count": null,
      "outputs": []
    },
    {
      "cell_type": "markdown",
      "metadata": {
        "id": "ife6NlFRJQ0f"
      },
      "source": [
        "### Neural Network\n",
        "\n",
        "In the final step, you will make classification with Neural Network which is a Deep Learning algorithm. \n",
        "\n",
        "Neural networks are a series of algorithms that mimic the operations of a human brain to recognize relationships between vast amounts of data. They are used in a variety of applications in financial services, from forecasting and marketing research to fraud detection and risk assessment.\n",
        "\n",
        "A neural network contains layers of interconnected nodes. Each node is a perceptron and is similar to a multiple linear regression. The perceptron feeds the signal produced by a multiple linear regression into an activation function that may be nonlinear.\n",
        "\n",
        "In a multi-layered perceptron (MLP), perceptrons are arranged in interconnected layers. The input layer collects input patterns. The output layer has classifications or output signals to which input patterns may map. \n",
        "\n",
        "Hidden layers fine-tune the input weightings until the neural network’s margin of error is minimal. It is hypothesized that hidden layers extrapolate salient features in the input data that have predictive power regarding the outputs.\n",
        "\n",
        "You will discover **[how to create](https://towardsdatascience.com/building-our-first-neural-network-in-keras-bdc8abbc17f5)** your deep learning neural network model in Python using **[Keras](https://keras.io/about/)**. Keras is a powerful and easy-to-use free open source Python library for developing and evaluating deep learning models.\n",
        "\n",
        "- The steps you are going to cover for this algorithm are as follows:\n",
        "\n",
        "   *i. Import Libraries*\n",
        "   \n",
        "   *ii. Define Model*\n",
        "    \n",
        "   *iii. Compile Model*\n",
        "   \n",
        "   *iv. Fit Model*\n",
        "   \n",
        "   *v. Prediction and Model Evaluating*\n",
        "   \n",
        "   *vi. Plot Precision and Recall Curve*"
      ]
    },
    {
      "cell_type": "markdown",
      "metadata": {
        "id": "i9Rl75fpMuHi"
      },
      "source": [
        "***i. Import Libraries***"
      ]
    },
    {
      "cell_type": "code",
      "metadata": {
        "id": "LhEc3K9KMuHi"
      },
      "source": [
        ""
      ],
      "execution_count": null,
      "outputs": []
    },
    {
      "cell_type": "markdown",
      "metadata": {
        "id": "gD6Rh1R8MuHi"
      },
      "source": [
        "***ii. Define Model***"
      ]
    },
    {
      "cell_type": "code",
      "metadata": {
        "id": "4okQmpRpMuHi"
      },
      "source": [
        ""
      ],
      "execution_count": null,
      "outputs": []
    },
    {
      "cell_type": "markdown",
      "metadata": {
        "id": "_IQN7--qMuHi"
      },
      "source": [
        "***iii. Compile Model***"
      ]
    },
    {
      "cell_type": "code",
      "metadata": {
        "id": "f4W96rfHMuHi"
      },
      "source": [
        ""
      ],
      "execution_count": null,
      "outputs": []
    },
    {
      "cell_type": "markdown",
      "metadata": {
        "id": "PsM_5PhJMuHi"
      },
      "source": [
        "***iv. Fit Model***"
      ]
    },
    {
      "cell_type": "code",
      "metadata": {
        "id": "cmkPKExFMuHj"
      },
      "source": [
        ""
      ],
      "execution_count": null,
      "outputs": []
    },
    {
      "cell_type": "markdown",
      "metadata": {
        "id": "InMeP9kgMuHj"
      },
      "source": [
        "***v. Prediction and Model Evaluating***"
      ]
    },
    {
      "cell_type": "code",
      "metadata": {
        "id": "wRi_uFjIMuHj"
      },
      "source": [
        ""
      ],
      "execution_count": null,
      "outputs": []
    },
    {
      "cell_type": "markdown",
      "metadata": {
        "id": "_JAEDNkjMuHj"
      },
      "source": [
        "***vi. Plot Precision and Recall Curve***"
      ]
    },
    {
      "cell_type": "markdown",
      "metadata": {
        "id": "LpbiGnpIxVK3"
      },
      "source": [
        "## 4. Model Deployement\n",
        "You cooked the food in the kitchen and moved on to the serving stage. The question is how do you showcase your work to others? Model Deployement helps you showcase your work to the world and make better decisions with it. But, deploying a model can get a little tricky at times. Before deploying the model, many things such as data storage, preprocessing, model building and monitoring need to be studied.\n",
        "\n",
        "Deployment of machine learning models, means making your models available to your other business systems. By deploying models, other systems can send data to them and get their predictions, which are in turn populated back into the company systems. Through machine learning model deployment, can begin to take full advantage of the model you built.\n",
        "\n",
        "Data science is concerned with how to build machine learning models, which algorithm is more predictive, how to design features, and what variables to use to make the models more accurate. However, how these models are actually used is often neglected. And yet this is the most important step in the machine learning pipline. Only when a model is fully integrated with the business systems, real values ​​can be extract from its predictions.\n",
        "\n",
        "After doing the following operations in this notebook, jump to *Pycharm* and create your web app with Flask API."
      ]
    },
    {
      "cell_type": "markdown",
      "metadata": {
        "id": "oCAYcMLEH_7P"
      },
      "source": [
        "### Save and Export the Model as .pkl\n"
      ]
    },
    {
      "cell_type": "code",
      "metadata": {
        "id": "MqluJ9yvIOex"
      },
      "source": [
        ""
      ],
      "execution_count": null,
      "outputs": []
    },
    {
      "cell_type": "markdown",
      "metadata": {
        "id": "vaZP1N93IPQi"
      },
      "source": [
        "### Save and Export Variables as .pkl"
      ]
    },
    {
      "cell_type": "code",
      "metadata": {
        "id": "q_vA-dJWxfFH"
      },
      "source": [
        ""
      ],
      "execution_count": null,
      "outputs": []
    },
    {
      "cell_type": "markdown",
      "metadata": {
        "id": "cm9Z__Y7MuHj"
      },
      "source": [
        "___\n",
        "\n",
        "<p style=\"text-align: center;\"><img src=\"https://docs.google.com/uc?id=1lY0Uj5R04yMY3-ZppPWxqCr5pvBLYPnV\" class=\"img-fluid\" alt=\"CLRSWY\"></p>\n",
        "\n",
        "___"
      ]
    }
  ]
}